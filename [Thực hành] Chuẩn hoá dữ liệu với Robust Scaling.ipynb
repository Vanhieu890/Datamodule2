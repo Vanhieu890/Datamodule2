{
 "cells": [
  {
   "cell_type": "code",
   "execution_count": 2,
   "id": "7e88bc9b",
   "metadata": {},
   "outputs": [],
   "source": [
    "import pandas as pd\n",
    "import numpy as np\n",
    "import matplotlib.pyplot as plt\n",
    "import seaborn as sns\n",
    "from sklearn.preprocessing import RobustScaler"
   ]
  },
  {
   "cell_type": "code",
   "execution_count": 3,
   "id": "0e3d2983",
   "metadata": {},
   "outputs": [],
   "source": [
    "# tạo các cột theo các phần phối khác nhau\n",
    "df = pd.DataFrame({ \n",
    "    'beta': np.random.beta(5, 1, 1000) * 60,        # beta\n",
    "    'exponential': np.random.exponential(10, 1000), # exponential\n",
    "    'normal_p': np.random.normal(10, 2, 1000),      # normal platykurtic\n",
    "    'normal_l': np.random.normal(10, 10, 1000),     # normal leptokurtic\n",
    "})"
   ]
  },
  {
   "cell_type": "code",
   "execution_count": 4,
   "id": "e3f67adb",
   "metadata": {},
   "outputs": [
    {
     "data": {
      "text/html": [
       "<div>\n",
       "<style scoped>\n",
       "    .dataframe tbody tr th:only-of-type {\n",
       "        vertical-align: middle;\n",
       "    }\n",
       "\n",
       "    .dataframe tbody tr th {\n",
       "        vertical-align: top;\n",
       "    }\n",
       "\n",
       "    .dataframe thead th {\n",
       "        text-align: right;\n",
       "    }\n",
       "</style>\n",
       "<table border=\"1\" class=\"dataframe\">\n",
       "  <thead>\n",
       "    <tr style=\"text-align: right;\">\n",
       "      <th></th>\n",
       "      <th>beta</th>\n",
       "      <th>exponential</th>\n",
       "      <th>normal_p</th>\n",
       "      <th>normal_l</th>\n",
       "      <th>bimodal</th>\n",
       "    </tr>\n",
       "  </thead>\n",
       "  <tbody>\n",
       "    <tr>\n",
       "      <th>0</th>\n",
       "      <td>48.141193</td>\n",
       "      <td>2.440934</td>\n",
       "      <td>10.587487</td>\n",
       "      <td>-4.514148</td>\n",
       "      <td>15.341971</td>\n",
       "    </tr>\n",
       "    <tr>\n",
       "      <th>1</th>\n",
       "      <td>51.650202</td>\n",
       "      <td>16.292479</td>\n",
       "      <td>11.505585</td>\n",
       "      <td>20.649871</td>\n",
       "      <td>18.329474</td>\n",
       "    </tr>\n",
       "    <tr>\n",
       "      <th>2</th>\n",
       "      <td>59.440508</td>\n",
       "      <td>5.426689</td>\n",
       "      <td>11.181883</td>\n",
       "      <td>12.551974</td>\n",
       "      <td>15.099787</td>\n",
       "    </tr>\n",
       "    <tr>\n",
       "      <th>3</th>\n",
       "      <td>32.783149</td>\n",
       "      <td>2.050844</td>\n",
       "      <td>11.204916</td>\n",
       "      <td>23.044138</td>\n",
       "      <td>21.545922</td>\n",
       "    </tr>\n",
       "    <tr>\n",
       "      <th>4</th>\n",
       "      <td>59.485871</td>\n",
       "      <td>1.050353</td>\n",
       "      <td>8.819611</td>\n",
       "      <td>7.013264</td>\n",
       "      <td>14.260209</td>\n",
       "    </tr>\n",
       "  </tbody>\n",
       "</table>\n",
       "</div>"
      ],
      "text/plain": [
       "        beta  exponential   normal_p   normal_l    bimodal\n",
       "0  48.141193     2.440934  10.587487  -4.514148  15.341971\n",
       "1  51.650202    16.292479  11.505585  20.649871  18.329474\n",
       "2  59.440508     5.426689  11.181883  12.551974  15.099787\n",
       "3  32.783149     2.050844  11.204916  23.044138  21.545922\n",
       "4  59.485871     1.050353   8.819611   7.013264  14.260209"
      ]
     },
     "execution_count": 4,
     "metadata": {},
     "output_type": "execute_result"
    }
   ],
   "source": [
    "# thêm dữ liệu được tạo theo phân phối nhị thức\n",
    "first_half = np.random.normal(20, 3, 500) \n",
    "second_half = np.random.normal(-20, 3, 500) \n",
    "bimodal = np.concatenate([first_half, second_half])\n",
    "\n",
    "df['bimodal'] = bimodal\n",
    "# hiển thị dữ liệu\n",
    "df.head()"
   ]
  },
  {
   "cell_type": "code",
   "execution_count": 5,
   "id": "2b5949de",
   "metadata": {},
   "outputs": [
    {
     "data": {
      "text/plain": [
       "<AxesSubplot:ylabel='Density'>"
      ]
     },
     "execution_count": 5,
     "metadata": {},
     "output_type": "execute_result"
    },
    {
     "data": {
      "image/png": "[encoded data removed]",
      "text/plain": [
       "<Figure size 432x288 with 1 Axes>"
      ]
     },
     "metadata": {
      "needs_background": "light"
     },
     "output_type": "display_data"
    }
   ],
   "source": [
    "sns.kdeplot(data=df)"
   ]
  },
  {
   "cell_type": "code",
   "execution_count": 6,
   "id": "a313d519",
   "metadata": {},
   "outputs": [
    {
     "data": {
      "text/html": [
       "<div>\n",
       "<style scoped>\n",
       "    .dataframe tbody tr th:only-of-type {\n",
       "        vertical-align: middle;\n",
       "    }\n",
       "\n",
       "    .dataframe tbody tr th {\n",
       "        vertical-align: top;\n",
       "    }\n",
       "\n",
       "    .dataframe thead th {\n",
       "        text-align: right;\n",
       "    }\n",
       "</style>\n",
       "<table border=\"1\" class=\"dataframe\">\n",
       "  <thead>\n",
       "    <tr style=\"text-align: right;\">\n",
       "      <th></th>\n",
       "      <th>beta</th>\n",
       "      <th>exponential</th>\n",
       "      <th>normal_p</th>\n",
       "      <th>normal_l</th>\n",
       "      <th>bimodal</th>\n",
       "    </tr>\n",
       "  </thead>\n",
       "  <tbody>\n",
       "    <tr>\n",
       "      <th>count</th>\n",
       "      <td>1000.000000</td>\n",
       "      <td>1000.000000</td>\n",
       "      <td>1000.000000</td>\n",
       "      <td>1000.000000</td>\n",
       "      <td>1000.000000</td>\n",
       "    </tr>\n",
       "    <tr>\n",
       "      <th>mean</th>\n",
       "      <td>49.932382</td>\n",
       "      <td>9.895953</td>\n",
       "      <td>9.978321</td>\n",
       "      <td>9.968508</td>\n",
       "      <td>-0.079133</td>\n",
       "    </tr>\n",
       "    <tr>\n",
       "      <th>std</th>\n",
       "      <td>8.515799</td>\n",
       "      <td>9.790778</td>\n",
       "      <td>2.016774</td>\n",
       "      <td>10.190777</td>\n",
       "      <td>20.294022</td>\n",
       "    </tr>\n",
       "    <tr>\n",
       "      <th>min</th>\n",
       "      <td>11.797072</td>\n",
       "      <td>0.003762</td>\n",
       "      <td>4.326161</td>\n",
       "      <td>-21.877500</td>\n",
       "      <td>-33.021358</td>\n",
       "    </tr>\n",
       "    <tr>\n",
       "      <th>25%</th>\n",
       "      <td>45.418452</td>\n",
       "      <td>2.704139</td>\n",
       "      <td>8.571558</td>\n",
       "      <td>2.897883</td>\n",
       "      <td>-20.071658</td>\n",
       "    </tr>\n",
       "    <tr>\n",
       "      <th>50%</th>\n",
       "      <td>51.849639</td>\n",
       "      <td>6.764367</td>\n",
       "      <td>9.943308</td>\n",
       "      <td>9.969148</td>\n",
       "      <td>0.257219</td>\n",
       "    </tr>\n",
       "    <tr>\n",
       "      <th>75%</th>\n",
       "      <td>56.649865</td>\n",
       "      <td>13.806814</td>\n",
       "      <td>11.420814</td>\n",
       "      <td>17.167091</td>\n",
       "      <td>19.964535</td>\n",
       "    </tr>\n",
       "    <tr>\n",
       "      <th>max</th>\n",
       "      <td>59.998880</td>\n",
       "      <td>65.247468</td>\n",
       "      <td>16.081641</td>\n",
       "      <td>43.152969</td>\n",
       "      <td>27.351365</td>\n",
       "    </tr>\n",
       "  </tbody>\n",
       "</table>\n",
       "</div>"
      ],
      "text/plain": [
       "              beta  exponential     normal_p     normal_l      bimodal\n",
       "count  1000.000000  1000.000000  1000.000000  1000.000000  1000.000000\n",
       "mean     49.932382     9.895953     9.978321     9.968508    -0.079133\n",
       "std       8.515799     9.790778     2.016774    10.190777    20.294022\n",
       "min      11.797072     0.003762     4.326161   -21.877500   -33.021358\n",
       "25%      45.418452     2.704139     8.571558     2.897883   -20.071658\n",
       "50%      51.849639     6.764367     9.943308     9.969148     0.257219\n",
       "75%      56.649865    13.806814    11.420814    17.167091    19.964535\n",
       "max      59.998880    65.247468    16.081641    43.152969    27.351365"
      ]
     },
     "execution_count": 6,
     "metadata": {},
     "output_type": "execute_result"
    }
   ],
   "source": [
    "df.describe()"
   ]
  },
  {
   "cell_type": "code",
   "execution_count": 7,
   "id": "3228050a",
   "metadata": {},
   "outputs": [
    {
     "data": {
      "text/plain": [
       "<AxesSubplot:ylabel='Density'>"
      ]
     },
     "execution_count": 7,
     "metadata": {},
     "output_type": "execute_result"
    },
    {
     "data": {
      "image/png": "[encoded data removed]",
      "text/plain": [
       "<Figure size 432x288 with 1 Axes>"
      ]
     },
     "metadata": {
      "needs_background": "light"
     },
     "output_type": "display_data"
    }
   ],
   "source": [
    "normal_big = np.random.normal(1000000, 10000, (1000,1))  # normal distribution of large values\n",
    "df['normal_big'] = normal_big\n",
    "sns.kdeplot(data=df)"
   ]
  },
  {
   "cell_type": "code",
   "execution_count": 8,
   "id": "c2242125",
   "metadata": {},
   "outputs": [
    {
     "data": {
      "text/plain": [
       "<AxesSubplot:>"
      ]
     },
     "execution_count": 8,
     "metadata": {},
     "output_type": "execute_result"
    },
    {
     "data": {
      "image/png": "[encoded data removed]",
      "text/plain": [
       "<Figure size 432x288 with 1 Axes>"
      ]
     },
     "metadata": {
      "needs_background": "light"
     },
     "output_type": "display_data"
    }
   ],
   "source": [
    "# trực quan hóa bằng biểu đồ box plot\n",
    "df.boxplot()"
   ]
  },
  {
   "cell_type": "code",
   "execution_count": 9,
   "id": "c4b79f76",
   "metadata": {},
   "outputs": [],
   "source": [
    "# Khai báo đối tượng MinMaxScaler\n",
    "scaler = RobustScaler()"
   ]
  },
  {
   "cell_type": "code",
   "execution_count": 10,
   "id": "02fda20c",
   "metadata": {},
   "outputs": [
    {
     "data": {
      "text/html": [
       "<div>\n",
       "<style scoped>\n",
       "    .dataframe tbody tr th:only-of-type {\n",
       "        vertical-align: middle;\n",
       "    }\n",
       "\n",
       "    .dataframe tbody tr th {\n",
       "        vertical-align: top;\n",
       "    }\n",
       "\n",
       "    .dataframe thead th {\n",
       "        text-align: right;\n",
       "    }\n",
       "</style>\n",
       "<table border=\"1\" class=\"dataframe\">\n",
       "  <thead>\n",
       "    <tr style=\"text-align: right;\">\n",
       "      <th></th>\n",
       "      <th>beta</th>\n",
       "      <th>exponential</th>\n",
       "      <th>normal_p</th>\n",
       "      <th>normal_l</th>\n",
       "      <th>bimodal</th>\n",
       "      <th>normal_big</th>\n",
       "    </tr>\n",
       "  </thead>\n",
       "  <tbody>\n",
       "    <tr>\n",
       "      <th>0</th>\n",
       "      <td>-0.330185</td>\n",
       "      <td>-0.389405</td>\n",
       "      <td>0.226087</td>\n",
       "      <td>-1.015004</td>\n",
       "      <td>0.376778</td>\n",
       "      <td>-0.010937</td>\n",
       "    </tr>\n",
       "    <tr>\n",
       "      <th>1</th>\n",
       "      <td>-0.017757</td>\n",
       "      <td>0.858182</td>\n",
       "      <td>0.548310</td>\n",
       "      <td>0.748515</td>\n",
       "      <td>0.451398</td>\n",
       "      <td>-0.193245</td>\n",
       "    </tr>\n",
       "    <tr>\n",
       "      <th>2</th>\n",
       "      <td>0.675861</td>\n",
       "      <td>-0.120482</td>\n",
       "      <td>0.434701</td>\n",
       "      <td>0.181007</td>\n",
       "      <td>0.370729</td>\n",
       "      <td>-0.167052</td>\n",
       "    </tr>\n",
       "    <tr>\n",
       "      <th>3</th>\n",
       "      <td>-1.697604</td>\n",
       "      <td>-0.424539</td>\n",
       "      <td>0.442785</td>\n",
       "      <td>0.916308</td>\n",
       "      <td>0.531736</td>\n",
       "      <td>1.070444</td>\n",
       "    </tr>\n",
       "    <tr>\n",
       "      <th>4</th>\n",
       "      <td>0.679899</td>\n",
       "      <td>-0.514652</td>\n",
       "      <td>-0.394383</td>\n",
       "      <td>-0.207151</td>\n",
       "      <td>0.349758</td>\n",
       "      <td>0.380755</td>\n",
       "    </tr>\n",
       "  </tbody>\n",
       "</table>\n",
       "</div>"
      ],
      "text/plain": [
       "       beta  exponential  normal_p  normal_l   bimodal  normal_big\n",
       "0 -0.330185    -0.389405  0.226087 -1.015004  0.376778   -0.010937\n",
       "1 -0.017757     0.858182  0.548310  0.748515  0.451398   -0.193245\n",
       "2  0.675861    -0.120482  0.434701  0.181007  0.370729   -0.167052\n",
       "3 -1.697604    -0.424539  0.442785  0.916308  0.531736    1.070444\n",
       "4  0.679899    -0.514652 -0.394383 -0.207151  0.349758    0.380755"
      ]
     },
     "execution_count": 10,
     "metadata": {},
     "output_type": "execute_result"
    }
   ],
   "source": [
    "# Chuẩn hóa dữ liệu trong df với StandardScaler\n",
    "df_s = scaler.fit_transform(df)\n",
    "\n",
    "# lấy danh sáchc cột\n",
    "col_names = list(df.columns)\n",
    "\n",
    "# chuyển về DataFrame, gán các cột của df cho dữ liệu đã được chuẩn hóa\n",
    "df_s = pd.DataFrame(df_s, columns=col_names)\n",
    "df_s.head()"
   ]
  },
  {
   "cell_type": "code",
   "execution_count": 11,
   "id": "e9bcf191",
   "metadata": {},
   "outputs": [
    {
     "data": {
      "text/plain": [
       "<AxesSubplot:ylabel='Density'>"
      ]
     },
     "execution_count": 11,
     "metadata": {},
     "output_type": "execute_result"
    },
    {
     "data": {
      "image/png": "[encoded data removed]",
      "text/plain": [
       "<Figure size 432x288 with 1 Axes>"
      ]
     },
     "metadata": {
      "needs_background": "light"
     },
     "output_type": "display_data"
    }
   ],
   "source": [
    "# biểu diễn dữ liệu đã được chuẩn hóa\n",
    "sns.kdeplot(data=df_s)"
   ]
  },
  {
   "cell_type": "code",
   "execution_count": 12,
   "id": "cbb10cfc",
   "metadata": {},
   "outputs": [
    {
     "data": {
      "text/html": [
       "<div>\n",
       "<style scoped>\n",
       "    .dataframe tbody tr th:only-of-type {\n",
       "        vertical-align: middle;\n",
       "    }\n",
       "\n",
       "    .dataframe tbody tr th {\n",
       "        vertical-align: top;\n",
       "    }\n",
       "\n",
       "    .dataframe thead th {\n",
       "        text-align: right;\n",
       "    }\n",
       "</style>\n",
       "<table border=\"1\" class=\"dataframe\">\n",
       "  <thead>\n",
       "    <tr style=\"text-align: right;\">\n",
       "      <th></th>\n",
       "      <th>beta</th>\n",
       "      <th>exponential</th>\n",
       "      <th>normal_p</th>\n",
       "      <th>normal_l</th>\n",
       "      <th>bimodal</th>\n",
       "      <th>normal_big</th>\n",
       "    </tr>\n",
       "  </thead>\n",
       "  <tbody>\n",
       "    <tr>\n",
       "      <th>count</th>\n",
       "      <td>1000.000000</td>\n",
       "      <td>1000.000000</td>\n",
       "      <td>1000.000000</td>\n",
       "      <td>1000.000000</td>\n",
       "      <td>1000.000000</td>\n",
       "      <td>1.000000e+03</td>\n",
       "    </tr>\n",
       "    <tr>\n",
       "      <th>mean</th>\n",
       "      <td>-0.170705</td>\n",
       "      <td>0.282057</td>\n",
       "      <td>0.012288</td>\n",
       "      <td>-0.000045</td>\n",
       "      <td>-0.008401</td>\n",
       "      <td>2.573734e-02</td>\n",
       "    </tr>\n",
       "    <tr>\n",
       "      <th>std</th>\n",
       "      <td>0.758213</td>\n",
       "      <td>0.881840</td>\n",
       "      <td>0.707825</td>\n",
       "      <td>0.714180</td>\n",
       "      <td>0.506892</td>\n",
       "      <td>7.355083e-01</td>\n",
       "    </tr>\n",
       "    <tr>\n",
       "      <th>min</th>\n",
       "      <td>-3.566120</td>\n",
       "      <td>-0.608917</td>\n",
       "      <td>-1.971444</td>\n",
       "      <td>-2.231844</td>\n",
       "      <td>-0.831212</td>\n",
       "      <td>-2.182937e+00</td>\n",
       "    </tr>\n",
       "    <tr>\n",
       "      <th>25%</th>\n",
       "      <td>-0.572607</td>\n",
       "      <td>-0.365698</td>\n",
       "      <td>-0.481442</td>\n",
       "      <td>-0.495561</td>\n",
       "      <td>-0.507762</td>\n",
       "      <td>-4.892703e-01</td>\n",
       "    </tr>\n",
       "    <tr>\n",
       "      <th>50%</th>\n",
       "      <td>0.000000</td>\n",
       "      <td>0.000000</td>\n",
       "      <td>0.000000</td>\n",
       "      <td>0.000000</td>\n",
       "      <td>0.000000</td>\n",
       "      <td>4.216137e-15</td>\n",
       "    </tr>\n",
       "    <tr>\n",
       "      <th>75%</th>\n",
       "      <td>0.427393</td>\n",
       "      <td>0.634302</td>\n",
       "      <td>0.518558</td>\n",
       "      <td>0.504439</td>\n",
       "      <td>0.492238</td>\n",
       "      <td>5.107297e-01</td>\n",
       "    </tr>\n",
       "    <tr>\n",
       "      <th>max</th>\n",
       "      <td>0.725576</td>\n",
       "      <td>5.267479</td>\n",
       "      <td>2.154363</td>\n",
       "      <td>2.325555</td>\n",
       "      <td>0.676741</td>\n",
       "      <td>2.535427e+00</td>\n",
       "    </tr>\n",
       "  </tbody>\n",
       "</table>\n",
       "</div>"
      ],
      "text/plain": [
       "              beta  exponential     normal_p     normal_l      bimodal  \\\n",
       "count  1000.000000  1000.000000  1000.000000  1000.000000  1000.000000   \n",
       "mean     -0.170705     0.282057     0.012288    -0.000045    -0.008401   \n",
       "std       0.758213     0.881840     0.707825     0.714180     0.506892   \n",
       "min      -3.566120    -0.608917    -1.971444    -2.231844    -0.831212   \n",
       "25%      -0.572607    -0.365698    -0.481442    -0.495561    -0.507762   \n",
       "50%       0.000000     0.000000     0.000000     0.000000     0.000000   \n",
       "75%       0.427393     0.634302     0.518558     0.504439     0.492238   \n",
       "max       0.725576     5.267479     2.154363     2.325555     0.676741   \n",
       "\n",
       "         normal_big  \n",
       "count  1.000000e+03  \n",
       "mean   2.573734e-02  \n",
       "std    7.355083e-01  \n",
       "min   -2.182937e+00  \n",
       "25%   -4.892703e-01  \n",
       "50%    4.216137e-15  \n",
       "75%    5.107297e-01  \n",
       "max    2.535427e+00  "
      ]
     },
     "execution_count": 12,
     "metadata": {},
     "output_type": "execute_result"
    }
   ],
   "source": [
    "# thống kê về dữ liệu được sinh ra\n",
    "df_s.describe()"
   ]
  },
  {
   "cell_type": "code",
   "execution_count": 13,
   "id": "f960f407",
   "metadata": {},
   "outputs": [
    {
     "data": {
      "text/plain": [
       "<AxesSubplot:>"
      ]
     },
     "execution_count": 13,
     "metadata": {},
     "output_type": "execute_result"
    },
    {
     "data": {
      "image/png": "[encoded data removed]",
      "text/plain": [
       "<Figure size 432x288 with 1 Axes>"
      ]
     },
     "metadata": {
      "needs_background": "light"
     },
     "output_type": "display_data"
    }
   ],
   "source": [
    "df_s.boxplot()"
   ]
  },
  {
   "cell_type": "code",
   "execution_count": 14,
   "id": "af7421d8",
   "metadata": {},
   "outputs": [
    {
     "data": {
      "text/plain": [
       "[-3.566120099671158,\n",
       " -0.6089168067985213,\n",
       " -1.9714439671024429,\n",
       " -2.2318441460876532,\n",
       " -0.8312123204974705,\n",
       " -2.182937354867494]"
      ]
     },
     "execution_count": 14,
     "metadata": {},
     "output_type": "execute_result"
    }
   ],
   "source": [
    "# lấy các giá trị min ở mỗi cột\n",
    "mins = [df_s[col].min() for col in df_s.columns]\n",
    "mins"
   ]
  },
  {
   "cell_type": "code",
   "execution_count": 15,
   "id": "cd44cd5f",
   "metadata": {},
   "outputs": [
    {
     "data": {
      "text/plain": [
       "[0.7255757973040202,\n",
       " 5.267478645321953,\n",
       " 2.1543634186933893,\n",
       " 2.3255545167797376,\n",
       " 0.6767413342500981,\n",
       " 2.5354273564060716]"
      ]
     },
     "execution_count": 15,
     "metadata": {},
     "output_type": "execute_result"
    }
   ],
   "source": [
    "# lấy giá trị max ở mỗi cột\n",
    "maxs = [df_s[col].max() for col in df_s.columns]\n",
    "maxs"
   ]
  },
  {
   "cell_type": "code",
   "execution_count": 16,
   "id": "ffce6080",
   "metadata": {},
   "outputs": [
    {
     "data": {
      "text/plain": [
       "array([5.18496390e+01, 6.76436698e+00, 9.94330849e+00, 9.96914789e+00,\n",
       "       2.57218671e-01, 9.99649160e+05])"
      ]
     },
     "execution_count": 16,
     "metadata": {},
     "output_type": "execute_result"
    }
   ],
   "source": [
    "# giá trị trung vị của các đặc trưng của tập dữ liệu gốc\n",
    "scaler.center_"
   ]
  },
  {
   "cell_type": "code",
   "execution_count": null,
   "id": "0fb3e727",
   "metadata": {},
   "outputs": [],
   "source": []
  }
 ],
 "metadata": {
  "kernelspec": {
   "display_name": "Python 3 (ipykernel)",
   "language": "python",
   "name": "python3"
  },
  "language_info": {
   "codemirror_mode": {
    "name": "ipython",
    "version": 3
   },
   "file_extension": ".py",
   "mimetype": "text/x-python",
   "name": "python",
   "nbconvert_exporter": "python",
   "pygments_lexer": "ipython3",
   "version": "3.9.12"
  }
 },
 "nbformat": 4,
 "nbformat_minor": 5
}
