{
 "cells": [
  {
   "cell_type": "code",
   "execution_count": 1,
   "id": "ede7912e",
   "metadata": {},
   "outputs": [],
   "source": [
    "import pandas as pd\n",
    "import numpy as np"
   ]
  },
  {
   "cell_type": "code",
   "execution_count": 2,
   "id": "17a9e91e",
   "metadata": {},
   "outputs": [],
   "source": [
    "ages = [20, 22, 25, 27, 21, 23, 37, 31, 61, 45, 41, 32]"
   ]
  },
  {
   "cell_type": "code",
   "execution_count": 9,
   "id": "83b6f842",
   "metadata": {},
   "outputs": [],
   "source": [
    "#Hãy chia chúng thành các nhóm từ 18 đến 25, 26 đến 35, 36 đến 60 và cuối cùng là 61 trở lên\n",
    "bins=[18,26,35,60,100]"
   ]
  },
  {
   "cell_type": "code",
   "execution_count": 10,
   "id": "e85976ad",
   "metadata": {},
   "outputs": [
    {
     "data": {
      "text/plain": [
       "[(18, 26], (18, 26], (18, 26], (26, 35], (18, 26], ..., (26, 35], (60, 100], (35, 60], (35, 60], (26, 35]]\n",
       "Length: 12\n",
       "Categories (4, interval[int64, right]): [(18, 26] < (26, 35] < (35, 60] < (60, 100]]"
      ]
     },
     "execution_count": 10,
     "metadata": {},
     "output_type": "execute_result"
    }
   ],
   "source": [
    "#thực hiện rời rạc hóa\n",
    "cats=pd.cut(ages,bins)\n",
    "cats"
   ]
  },
  {
   "cell_type": "code",
   "execution_count": 11,
   "id": "dd6c7604",
   "metadata": {},
   "outputs": [
    {
     "data": {
      "text/plain": [
       "array([0, 0, 0, 1, 0, 0, 2, 1, 3, 2, 2, 1], dtype=int8)"
      ]
     },
     "execution_count": 11,
     "metadata": {},
     "output_type": "execute_result"
    }
   ],
   "source": [
    "#Lấy ra index của nhóm tương ứng với các phần tử\n",
    "cats.codes"
   ]
  },
  {
   "cell_type": "code",
   "execution_count": 12,
   "id": "76f2e27b",
   "metadata": {},
   "outputs": [
    {
     "data": {
      "text/plain": [
       "IntervalIndex([(18, 26], (26, 35], (35, 60], (60, 100]], dtype='interval[int64, right]')"
      ]
     },
     "execution_count": 12,
     "metadata": {},
     "output_type": "execute_result"
    }
   ],
   "source": [
    "#Lấy ra các nhóm\n",
    "cats.categories"
   ]
  },
  {
   "cell_type": "code",
   "execution_count": 13,
   "id": "494045b3",
   "metadata": {},
   "outputs": [
    {
     "data": {
      "text/plain": [
       "(18, 26]     5\n",
       "(26, 35]     3\n",
       "(35, 60]     3\n",
       "(60, 100]    1\n",
       "dtype: int64"
      ]
     },
     "execution_count": 13,
     "metadata": {},
     "output_type": "execute_result"
    }
   ],
   "source": [
    "#Thống kê phần tử ở mỗi nhóm\n",
    "pd.value_counts(cats)"
   ]
  },
  {
   "cell_type": "code",
   "execution_count": 14,
   "id": "980eff36",
   "metadata": {},
   "outputs": [
    {
     "data": {
      "text/plain": [
       "[[18, 26), [18, 26), [18, 26), [26, 36), [18, 26), ..., [26, 36), [61, 100), [36, 61), [36, 61), [26, 36)]\n",
       "Length: 12\n",
       "Categories (4, interval[int64, left]): [[18, 26) < [26, 36) < [36, 61) < [61, 100)]"
      ]
     },
     "execution_count": 14,
     "metadata": {},
     "output_type": "execute_result"
    }
   ],
   "source": [
    "#Đồng nhất ký hiệu toán học cho các khoảng\n",
    "pd.cut(ages,[18,26,36,61,100],right=False)"
   ]
  },
  {
   "cell_type": "code",
   "execution_count": 15,
   "id": "415a0b99",
   "metadata": {},
   "outputs": [
    {
     "data": {
      "text/plain": [
       "['Youth', 'Youth', 'Youth', 'YoungAdult', 'Youth', ..., 'YoungAdult', 'Senior', 'MiddleAged', 'MiddleAged', 'YoungAdult']\n",
       "Length: 12\n",
       "Categories (4, object): ['Youth' < 'YoungAdult' < 'MiddleAged' < 'Senior']"
      ]
     },
     "execution_count": 15,
     "metadata": {},
     "output_type": "execute_result"
    }
   ],
   "source": [
    "#danh sách nhãn\n",
    "group_names=['Youth','YoungAdult','MiddleAged','Senior']\n",
    "pd.cut(ages,bins,labels=group_names)\n"
   ]
  },
  {
   "cell_type": "code",
   "execution_count": 17,
   "id": "50cce687",
   "metadata": {},
   "outputs": [
    {
     "data": {
      "text/plain": [
       "[(0.023, 0.27], (0.023, 0.27], (0.75, 0.99], (0.023, 0.27], (0.75, 0.99], ..., (0.023, 0.27], (0.51, 0.75], (0.27, 0.51], (0.51, 0.75], (0.75, 0.99]]\n",
       "Length: 20\n",
       "Categories (4, interval[float64, right]): [(0.023, 0.27] < (0.27, 0.51] < (0.51, 0.75] < (0.75, 0.99]]"
      ]
     },
     "execution_count": 17,
     "metadata": {},
     "output_type": "execute_result"
    }
   ],
   "source": [
    "#Nếu truyền một số nguyên nhóm để thực hiện hàm cut thay vì các khoảng giá trị rõ ràng, nó sẽ tính toán các nhóm có chiều dài bằng nhau dựa trên các giá trị tối thiểu và lớn nhất trong dữ liệu.\n",
    "#Sinh dữ liệu ngẫu nhiên gồm 20 phần tử\n",
    "data=np.random.rand(20)\n",
    "cut_data=pd.cut(data,4,precision=2)# Precision= 2 sẽ giới hạn độ chính xác thập phân ở 2 chữ số\n",
    "cut_data"
   ]
  },
  {
   "cell_type": "code",
   "execution_count": 18,
   "id": "e799db2e",
   "metadata": {},
   "outputs": [
    {
     "data": {
      "text/plain": [
       "(0.023, 0.27]    6\n",
       "(0.75, 0.99]     6\n",
       "(0.27, 0.51]     4\n",
       "(0.51, 0.75]     4\n",
       "dtype: int64"
      ]
     },
     "execution_count": 18,
     "metadata": {},
     "output_type": "execute_result"
    }
   ],
   "source": [
    "pd.value_counts(cut_data)"
   ]
  },
  {
   "cell_type": "code",
   "execution_count": 19,
   "id": "e80d60aa",
   "metadata": {},
   "outputs": [
    {
     "data": {
      "text/plain": [
       "[(-3.627, -0.691], (-3.627, -0.691], (-0.691, 0.015], (-3.627, -0.691], (-3.627, -0.691], ..., (-0.691, 0.015], (0.725, 3.401], (-3.627, -0.691], (0.725, 3.401], (0.725, 3.401]]\n",
       "Length: 1000\n",
       "Categories (4, interval[float64, right]): [(-3.627, -0.691] < (-0.691, 0.015] < (0.015, 0.725] < (0.725, 3.401]]"
      ]
     },
     "execution_count": 19,
     "metadata": {},
     "output_type": "execute_result"
    }
   ],
   "source": [
    "#Sinh ngẫu nhiên 1000 điểm dữ liệu\n",
    "data=np.random.randn(1000)\n",
    "#thực hiện hàm qcut trên dữ liệu vừa sinh ra\n",
    "cats=pd.qcut(data,4)\n",
    "cats"
   ]
  },
  {
   "cell_type": "code",
   "execution_count": 20,
   "id": "00e04dda",
   "metadata": {},
   "outputs": [
    {
     "data": {
      "text/plain": [
       "(-3.627, -0.691]    250\n",
       "(-0.691, 0.015]     250\n",
       "(0.015, 0.725]      250\n",
       "(0.725, 3.401]      250\n",
       "dtype: int64"
      ]
     },
     "execution_count": 20,
     "metadata": {},
     "output_type": "execute_result"
    }
   ],
   "source": [
    "#Thống kê số lượng phần tử\n",
    "pd.value_counts(cats)"
   ]
  },
  {
   "cell_type": "code",
   "execution_count": 21,
   "id": "96172686",
   "metadata": {},
   "outputs": [
    {
     "data": {
      "text/plain": [
       "[(-1.268, 0.015], (-1.268, 0.015], (-1.268, 0.015], (-3.627, -1.268], (-1.268, 0.015], ..., (-1.268, 0.015], (0.015, 1.351], (-1.268, 0.015], (1.351, 3.401], (0.015, 1.351]]\n",
       "Length: 1000\n",
       "Categories (4, interval[float64, right]): [(-3.627, -1.268] < (-1.268, 0.015] < (0.015, 1.351] < (1.351, 3.401]]"
      ]
     },
     "execution_count": 21,
     "metadata": {},
     "output_type": "execute_result"
    }
   ],
   "source": [
    "#chuyển các lượng tử của riêng mình\n",
    "pd.qcut(data, [0, 0.1, 0.5, 0.9, 1.])"
   ]
  },
  {
   "cell_type": "code",
   "execution_count": null,
   "id": "b1829dad",
   "metadata": {},
   "outputs": [],
   "source": []
  }
 ],
 "metadata": {
  "kernelspec": {
   "display_name": "Python 3 (ipykernel)",
   "language": "python",
   "name": "python3"
  },
  "language_info": {
   "codemirror_mode": {
    "name": "ipython",
    "version": 3
   },
   "file_extension": ".py",
   "mimetype": "text/x-python",
   "name": "python",
   "nbconvert_exporter": "python",
   "pygments_lexer": "ipython3",
   "version": "3.9.12"
  }
 },
 "nbformat": 4,
 "nbformat_minor": 5
}
