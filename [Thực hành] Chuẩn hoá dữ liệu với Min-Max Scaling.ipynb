{
 "cells": [
  {
   "cell_type": "code",
   "execution_count": 1,
   "id": "3b518931",
   "metadata": {},
   "outputs": [],
   "source": [
    "import pandas as pd\n",
    "import numpy as np\n",
    "import matplotlib.pyplot as plt\n",
    "import seaborn as sns\n",
    "from sklearn.preprocessing import MinMaxScaler"
   ]
  },
  {
   "cell_type": "code",
   "execution_count": 3,
   "id": "8ccffd13",
   "metadata": {},
   "outputs": [
    {
     "data": {
      "text/html": [
       "<div>\n",
       "<style scoped>\n",
       "    .dataframe tbody tr th:only-of-type {\n",
       "        vertical-align: middle;\n",
       "    }\n",
       "\n",
       "    .dataframe tbody tr th {\n",
       "        vertical-align: top;\n",
       "    }\n",
       "\n",
       "    .dataframe thead th {\n",
       "        text-align: right;\n",
       "    }\n",
       "</style>\n",
       "<table border=\"1\" class=\"dataframe\">\n",
       "  <thead>\n",
       "    <tr style=\"text-align: right;\">\n",
       "      <th></th>\n",
       "      <th>beta</th>\n",
       "      <th>exponential</th>\n",
       "      <th>normal_p</th>\n",
       "      <th>normal_l</th>\n",
       "    </tr>\n",
       "  </thead>\n",
       "  <tbody>\n",
       "    <tr>\n",
       "      <th>0</th>\n",
       "      <td>59.964510</td>\n",
       "      <td>4.105165</td>\n",
       "      <td>10.764775</td>\n",
       "      <td>10.698066</td>\n",
       "    </tr>\n",
       "    <tr>\n",
       "      <th>1</th>\n",
       "      <td>48.728278</td>\n",
       "      <td>4.647803</td>\n",
       "      <td>7.860027</td>\n",
       "      <td>10.403266</td>\n",
       "    </tr>\n",
       "    <tr>\n",
       "      <th>2</th>\n",
       "      <td>54.655345</td>\n",
       "      <td>64.442243</td>\n",
       "      <td>10.154581</td>\n",
       "      <td>21.487413</td>\n",
       "    </tr>\n",
       "    <tr>\n",
       "      <th>3</th>\n",
       "      <td>56.981351</td>\n",
       "      <td>1.128537</td>\n",
       "      <td>9.035869</td>\n",
       "      <td>21.861244</td>\n",
       "    </tr>\n",
       "    <tr>\n",
       "      <th>4</th>\n",
       "      <td>59.023815</td>\n",
       "      <td>0.371514</td>\n",
       "      <td>12.900746</td>\n",
       "      <td>27.356175</td>\n",
       "    </tr>\n",
       "    <tr>\n",
       "      <th>...</th>\n",
       "      <td>...</td>\n",
       "      <td>...</td>\n",
       "      <td>...</td>\n",
       "      <td>...</td>\n",
       "    </tr>\n",
       "    <tr>\n",
       "      <th>995</th>\n",
       "      <td>45.219505</td>\n",
       "      <td>5.290962</td>\n",
       "      <td>10.347787</td>\n",
       "      <td>3.740151</td>\n",
       "    </tr>\n",
       "    <tr>\n",
       "      <th>996</th>\n",
       "      <td>57.251433</td>\n",
       "      <td>4.032712</td>\n",
       "      <td>10.168299</td>\n",
       "      <td>14.462367</td>\n",
       "    </tr>\n",
       "    <tr>\n",
       "      <th>997</th>\n",
       "      <td>59.110617</td>\n",
       "      <td>1.946620</td>\n",
       "      <td>7.814211</td>\n",
       "      <td>14.614850</td>\n",
       "    </tr>\n",
       "    <tr>\n",
       "      <th>998</th>\n",
       "      <td>48.601981</td>\n",
       "      <td>2.463785</td>\n",
       "      <td>11.695603</td>\n",
       "      <td>13.812669</td>\n",
       "    </tr>\n",
       "    <tr>\n",
       "      <th>999</th>\n",
       "      <td>58.471213</td>\n",
       "      <td>5.663597</td>\n",
       "      <td>12.120221</td>\n",
       "      <td>5.979415</td>\n",
       "    </tr>\n",
       "  </tbody>\n",
       "</table>\n",
       "<p>1000 rows × 4 columns</p>\n",
       "</div>"
      ],
      "text/plain": [
       "          beta  exponential   normal_p   normal_l\n",
       "0    59.964510     4.105165  10.764775  10.698066\n",
       "1    48.728278     4.647803   7.860027  10.403266\n",
       "2    54.655345    64.442243  10.154581  21.487413\n",
       "3    56.981351     1.128537   9.035869  21.861244\n",
       "4    59.023815     0.371514  12.900746  27.356175\n",
       "..         ...          ...        ...        ...\n",
       "995  45.219505     5.290962  10.347787   3.740151\n",
       "996  57.251433     4.032712  10.168299  14.462367\n",
       "997  59.110617     1.946620   7.814211  14.614850\n",
       "998  48.601981     2.463785  11.695603  13.812669\n",
       "999  58.471213     5.663597  12.120221   5.979415\n",
       "\n",
       "[1000 rows x 4 columns]"
      ]
     },
     "execution_count": 3,
     "metadata": {},
     "output_type": "execute_result"
    }
   ],
   "source": [
    "# tạo các cột theo các phần phối khác nhau\n",
    "df = pd.DataFrame({ \n",
    "    'beta': np.random.beta(5, 1, 1000) * 60,        # beta\n",
    "    'exponential': np.random.exponential(10, 1000), # exponential\n",
    "    'normal_p': np.random.normal(10, 2, 1000),      # normal platykurtic\n",
    "    'normal_l': np.random.normal(10, 10, 1000),     # normal leptokurtic\n",
    "})\n",
    "df"
   ]
  },
  {
   "cell_type": "code",
   "execution_count": 5,
   "id": "0c0709ea",
   "metadata": {},
   "outputs": [
    {
     "data": {
      "text/html": [
       "<div>\n",
       "<style scoped>\n",
       "    .dataframe tbody tr th:only-of-type {\n",
       "        vertical-align: middle;\n",
       "    }\n",
       "\n",
       "    .dataframe tbody tr th {\n",
       "        vertical-align: top;\n",
       "    }\n",
       "\n",
       "    .dataframe thead th {\n",
       "        text-align: right;\n",
       "    }\n",
       "</style>\n",
       "<table border=\"1\" class=\"dataframe\">\n",
       "  <thead>\n",
       "    <tr style=\"text-align: right;\">\n",
       "      <th></th>\n",
       "      <th>beta</th>\n",
       "      <th>exponential</th>\n",
       "      <th>normal_p</th>\n",
       "      <th>normal_l</th>\n",
       "      <th>bimodal</th>\n",
       "    </tr>\n",
       "  </thead>\n",
       "  <tbody>\n",
       "    <tr>\n",
       "      <th>0</th>\n",
       "      <td>59.964510</td>\n",
       "      <td>4.105165</td>\n",
       "      <td>10.764775</td>\n",
       "      <td>10.698066</td>\n",
       "      <td>24.694395</td>\n",
       "    </tr>\n",
       "    <tr>\n",
       "      <th>1</th>\n",
       "      <td>48.728278</td>\n",
       "      <td>4.647803</td>\n",
       "      <td>7.860027</td>\n",
       "      <td>10.403266</td>\n",
       "      <td>22.106586</td>\n",
       "    </tr>\n",
       "    <tr>\n",
       "      <th>2</th>\n",
       "      <td>54.655345</td>\n",
       "      <td>64.442243</td>\n",
       "      <td>10.154581</td>\n",
       "      <td>21.487413</td>\n",
       "      <td>22.791750</td>\n",
       "    </tr>\n",
       "    <tr>\n",
       "      <th>3</th>\n",
       "      <td>56.981351</td>\n",
       "      <td>1.128537</td>\n",
       "      <td>9.035869</td>\n",
       "      <td>21.861244</td>\n",
       "      <td>22.148868</td>\n",
       "    </tr>\n",
       "    <tr>\n",
       "      <th>4</th>\n",
       "      <td>59.023815</td>\n",
       "      <td>0.371514</td>\n",
       "      <td>12.900746</td>\n",
       "      <td>27.356175</td>\n",
       "      <td>20.331080</td>\n",
       "    </tr>\n",
       "  </tbody>\n",
       "</table>\n",
       "</div>"
      ],
      "text/plain": [
       "        beta  exponential   normal_p   normal_l    bimodal\n",
       "0  59.964510     4.105165  10.764775  10.698066  24.694395\n",
       "1  48.728278     4.647803   7.860027  10.403266  22.106586\n",
       "2  54.655345    64.442243  10.154581  21.487413  22.791750\n",
       "3  56.981351     1.128537   9.035869  21.861244  22.148868\n",
       "4  59.023815     0.371514  12.900746  27.356175  20.331080"
      ]
     },
     "execution_count": 5,
     "metadata": {},
     "output_type": "execute_result"
    }
   ],
   "source": [
    "# thêm dữ liệu được tạo theo phân phối nhị thức\n",
    "first_half = np.random.normal(20, 3, 500) \n",
    "second_half = np.random.normal(-20, 3, 500) \n",
    "bimodal = np.concatenate([first_half, second_half])\n",
    "\n",
    "df['bimodal'] = bimodal\n",
    "df.head()"
   ]
  },
  {
   "cell_type": "code",
   "execution_count": 6,
   "id": "cfb23751",
   "metadata": {},
   "outputs": [
    {
     "data": {
      "text/plain": [
       "<AxesSubplot:ylabel='Density'>"
      ]
     },
     "execution_count": 6,
     "metadata": {},
     "output_type": "execute_result"
    },
    {
     "data": {
      "image/png": "[encoded data removed]",
      "text/plain": [
       "<Figure size 432x288 with 1 Axes>"
      ]
     },
     "metadata": {
      "needs_background": "light"
     },
     "output_type": "display_data"
    }
   ],
   "source": [
    "#trực quan hóa dữ liệu sinh ra\n",
    "sns.kdeplot(data=df)"
   ]
  },
  {
   "cell_type": "code",
   "execution_count": 7,
   "id": "25c8ecfa",
   "metadata": {},
   "outputs": [
    {
     "data": {
      "text/html": [
       "<div>\n",
       "<style scoped>\n",
       "    .dataframe tbody tr th:only-of-type {\n",
       "        vertical-align: middle;\n",
       "    }\n",
       "\n",
       "    .dataframe tbody tr th {\n",
       "        vertical-align: top;\n",
       "    }\n",
       "\n",
       "    .dataframe thead th {\n",
       "        text-align: right;\n",
       "    }\n",
       "</style>\n",
       "<table border=\"1\" class=\"dataframe\">\n",
       "  <thead>\n",
       "    <tr style=\"text-align: right;\">\n",
       "      <th></th>\n",
       "      <th>beta</th>\n",
       "      <th>exponential</th>\n",
       "      <th>normal_p</th>\n",
       "      <th>normal_l</th>\n",
       "      <th>bimodal</th>\n",
       "    </tr>\n",
       "  </thead>\n",
       "  <tbody>\n",
       "    <tr>\n",
       "      <th>count</th>\n",
       "      <td>1000.000000</td>\n",
       "      <td>1000.000000</td>\n",
       "      <td>1000.000000</td>\n",
       "      <td>1000.000000</td>\n",
       "      <td>1000.000000</td>\n",
       "    </tr>\n",
       "    <tr>\n",
       "      <th>mean</th>\n",
       "      <td>50.083390</td>\n",
       "      <td>10.126418</td>\n",
       "      <td>10.027950</td>\n",
       "      <td>9.924626</td>\n",
       "      <td>-0.064201</td>\n",
       "    </tr>\n",
       "    <tr>\n",
       "      <th>std</th>\n",
       "      <td>8.272681</td>\n",
       "      <td>10.549775</td>\n",
       "      <td>2.032427</td>\n",
       "      <td>10.440513</td>\n",
       "      <td>20.346646</td>\n",
       "    </tr>\n",
       "    <tr>\n",
       "      <th>min</th>\n",
       "      <td>14.233219</td>\n",
       "      <td>0.000631</td>\n",
       "      <td>3.105958</td>\n",
       "      <td>-24.410157</td>\n",
       "      <td>-31.768374</td>\n",
       "    </tr>\n",
       "    <tr>\n",
       "      <th>25%</th>\n",
       "      <td>45.953550</td>\n",
       "      <td>2.997913</td>\n",
       "      <td>8.693383</td>\n",
       "      <td>3.058824</td>\n",
       "      <td>-20.210014</td>\n",
       "    </tr>\n",
       "    <tr>\n",
       "      <th>50%</th>\n",
       "      <td>51.782269</td>\n",
       "      <td>6.815129</td>\n",
       "      <td>10.030771</td>\n",
       "      <td>10.079442</td>\n",
       "      <td>0.346782</td>\n",
       "    </tr>\n",
       "    <tr>\n",
       "      <th>75%</th>\n",
       "      <td>56.654334</td>\n",
       "      <td>13.786055</td>\n",
       "      <td>11.368054</td>\n",
       "      <td>16.973005</td>\n",
       "      <td>20.082063</td>\n",
       "    </tr>\n",
       "    <tr>\n",
       "      <th>max</th>\n",
       "      <td>59.997926</td>\n",
       "      <td>86.852960</td>\n",
       "      <td>17.955756</td>\n",
       "      <td>50.709014</td>\n",
       "      <td>27.699607</td>\n",
       "    </tr>\n",
       "  </tbody>\n",
       "</table>\n",
       "</div>"
      ],
      "text/plain": [
       "              beta  exponential     normal_p     normal_l      bimodal\n",
       "count  1000.000000  1000.000000  1000.000000  1000.000000  1000.000000\n",
       "mean     50.083390    10.126418    10.027950     9.924626    -0.064201\n",
       "std       8.272681    10.549775     2.032427    10.440513    20.346646\n",
       "min      14.233219     0.000631     3.105958   -24.410157   -31.768374\n",
       "25%      45.953550     2.997913     8.693383     3.058824   -20.210014\n",
       "50%      51.782269     6.815129    10.030771    10.079442     0.346782\n",
       "75%      56.654334    13.786055    11.368054    16.973005    20.082063\n",
       "max      59.997926    86.852960    17.955756    50.709014    27.699607"
      ]
     },
     "execution_count": 7,
     "metadata": {},
     "output_type": "execute_result"
    }
   ],
   "source": [
    "#HIển thị thống kê về dữ liệu sinh ra\n",
    "df.describe()"
   ]
  },
  {
   "cell_type": "code",
   "execution_count": 8,
   "id": "ba4a1969",
   "metadata": {},
   "outputs": [
    {
     "data": {
      "text/plain": [
       "<AxesSubplot:ylabel='Density'>"
      ]
     },
     "execution_count": 8,
     "metadata": {},
     "output_type": "execute_result"
    },
    {
     "data": {
      "image/png": "[encoded data removed]",
      "text/plain": [
       "<Figure size 432x288 with 1 Axes>"
      ]
     },
     "metadata": {
      "needs_background": "light"
     },
     "output_type": "display_data"
    }
   ],
   "source": [
    "normal_big = np.random.normal(1000000, 10000, (1000,1))  # normal distribution of large values\n",
    "df['normal_big'] = normal_big\n",
    "sns.kdeplot(data=df)"
   ]
  },
  {
   "cell_type": "code",
   "execution_count": 9,
   "id": "5242e2b0",
   "metadata": {},
   "outputs": [
    {
     "data": {
      "text/plain": [
       "<AxesSubplot:>"
      ]
     },
     "execution_count": 9,
     "metadata": {},
     "output_type": "execute_result"
    },
    {
     "data": {
      "image/png": "[encoded data removed]",
      "text/plain": [
       "<Figure size 432x288 with 1 Axes>"
      ]
     },
     "metadata": {
      "needs_background": "light"
     },
     "output_type": "display_data"
    }
   ],
   "source": [
    "# trực quan hóa bằng biểu đồ box plot\n",
    "df.boxplot()"
   ]
  },
  {
   "cell_type": "code",
   "execution_count": 11,
   "id": "3dd28d8b",
   "metadata": {},
   "outputs": [
    {
     "data": {
      "text/html": [
       "<div>\n",
       "<style scoped>\n",
       "    .dataframe tbody tr th:only-of-type {\n",
       "        vertical-align: middle;\n",
       "    }\n",
       "\n",
       "    .dataframe tbody tr th {\n",
       "        vertical-align: top;\n",
       "    }\n",
       "\n",
       "    .dataframe thead th {\n",
       "        text-align: right;\n",
       "    }\n",
       "</style>\n",
       "<table border=\"1\" class=\"dataframe\">\n",
       "  <thead>\n",
       "    <tr style=\"text-align: right;\">\n",
       "      <th></th>\n",
       "      <th>beta</th>\n",
       "      <th>exponential</th>\n",
       "      <th>normal_p</th>\n",
       "      <th>normal_l</th>\n",
       "      <th>bimodal</th>\n",
       "      <th>normal_big</th>\n",
       "    </tr>\n",
       "  </thead>\n",
       "  <tbody>\n",
       "    <tr>\n",
       "      <th>0</th>\n",
       "      <td>0.999270</td>\n",
       "      <td>0.047259</td>\n",
       "      <td>0.515752</td>\n",
       "      <td>0.467367</td>\n",
       "      <td>0.949465</td>\n",
       "      <td>0.465027</td>\n",
       "    </tr>\n",
       "    <tr>\n",
       "      <th>1</th>\n",
       "      <td>0.753748</td>\n",
       "      <td>0.053507</td>\n",
       "      <td>0.320144</td>\n",
       "      <td>0.463443</td>\n",
       "      <td>0.905949</td>\n",
       "      <td>0.541336</td>\n",
       "    </tr>\n",
       "    <tr>\n",
       "      <th>2</th>\n",
       "      <td>0.883260</td>\n",
       "      <td>0.741968</td>\n",
       "      <td>0.474661</td>\n",
       "      <td>0.610997</td>\n",
       "      <td>0.917471</td>\n",
       "      <td>0.585225</td>\n",
       "    </tr>\n",
       "    <tr>\n",
       "      <th>3</th>\n",
       "      <td>0.934085</td>\n",
       "      <td>0.012986</td>\n",
       "      <td>0.399326</td>\n",
       "      <td>0.615973</td>\n",
       "      <td>0.906660</td>\n",
       "      <td>0.294265</td>\n",
       "    </tr>\n",
       "    <tr>\n",
       "      <th>4</th>\n",
       "      <td>0.978715</td>\n",
       "      <td>0.004270</td>\n",
       "      <td>0.659591</td>\n",
       "      <td>0.689123</td>\n",
       "      <td>0.876093</td>\n",
       "      <td>0.371799</td>\n",
       "    </tr>\n",
       "  </tbody>\n",
       "</table>\n",
       "</div>"
      ],
      "text/plain": [
       "       beta  exponential  normal_p  normal_l   bimodal  normal_big\n",
       "0  0.999270     0.047259  0.515752  0.467367  0.949465    0.465027\n",
       "1  0.753748     0.053507  0.320144  0.463443  0.905949    0.541336\n",
       "2  0.883260     0.741968  0.474661  0.610997  0.917471    0.585225\n",
       "3  0.934085     0.012986  0.399326  0.615973  0.906660    0.294265\n",
       "4  0.978715     0.004270  0.659591  0.689123  0.876093    0.371799"
      ]
     },
     "execution_count": 11,
     "metadata": {},
     "output_type": "execute_result"
    }
   ],
   "source": [
    "# Khai báo đối tượng MinMaxScaler\n",
    "scaler = MinMaxScaler()\n",
    "# Chuẩn hóa dữ liệu trong df với StandardScaler\n",
    "df_s = scaler.fit_transform(df)\n",
    "\n",
    "# lấy danh sáchc cột\n",
    "col_names = list(df.columns)\n",
    "\n",
    "# chuyển về DataFrame, gán các cột của df cho dữ liệu đã được chuẩn hóa\n",
    "df_s = pd.DataFrame(df_s, columns=col_names)\n",
    "df_s.head()"
   ]
  },
  {
   "cell_type": "code",
   "execution_count": 12,
   "id": "1c4c0cd7",
   "metadata": {},
   "outputs": [
    {
     "data": {
      "text/plain": [
       "<AxesSubplot:ylabel='Density'>"
      ]
     },
     "execution_count": 12,
     "metadata": {},
     "output_type": "execute_result"
    },
    {
     "data": {
      "image/png": "[encoded data removed]",
      "text/plain": [
       "<Figure size 432x288 with 1 Axes>"
      ]
     },
     "metadata": {
      "needs_background": "light"
     },
     "output_type": "display_data"
    }
   ],
   "source": [
    "# biểu diễn dữ liệu đã được chuẩn hóa\n",
    "sns.kdeplot(data=df_s)"
   ]
  },
  {
   "cell_type": "code",
   "execution_count": 13,
   "id": "749f69b2",
   "metadata": {},
   "outputs": [
    {
     "data": {
      "text/plain": [
       "<AxesSubplot:>"
      ]
     },
     "execution_count": 13,
     "metadata": {},
     "output_type": "execute_result"
    },
    {
     "data": {
      "image/png": "[encoded data removed]",
      "text/plain": [
       "<Figure size 432x288 with 1 Axes>"
      ]
     },
     "metadata": {
      "needs_background": "light"
     },
     "output_type": "display_data"
    }
   ],
   "source": [
    "# trực quan hóa bằng biểu đồ box plot\n",
    "df_s.boxplot()"
   ]
  },
  {
   "cell_type": "code",
   "execution_count": 14,
   "id": "16b93129",
   "metadata": {},
   "outputs": [
    {
     "data": {
      "text/html": [
       "<div>\n",
       "<style scoped>\n",
       "    .dataframe tbody tr th:only-of-type {\n",
       "        vertical-align: middle;\n",
       "    }\n",
       "\n",
       "    .dataframe tbody tr th {\n",
       "        vertical-align: top;\n",
       "    }\n",
       "\n",
       "    .dataframe thead th {\n",
       "        text-align: right;\n",
       "    }\n",
       "</style>\n",
       "<table border=\"1\" class=\"dataframe\">\n",
       "  <thead>\n",
       "    <tr style=\"text-align: right;\">\n",
       "      <th></th>\n",
       "      <th>beta</th>\n",
       "      <th>exponential</th>\n",
       "      <th>normal_p</th>\n",
       "      <th>normal_l</th>\n",
       "      <th>bimodal</th>\n",
       "      <th>normal_big</th>\n",
       "    </tr>\n",
       "  </thead>\n",
       "  <tbody>\n",
       "    <tr>\n",
       "      <th>count</th>\n",
       "      <td>1000.000000</td>\n",
       "      <td>1000.000000</td>\n",
       "      <td>1000.000000</td>\n",
       "      <td>1000.000000</td>\n",
       "      <td>1000.000000</td>\n",
       "      <td>1000.000000</td>\n",
       "    </tr>\n",
       "    <tr>\n",
       "      <th>mean</th>\n",
       "      <td>0.783358</td>\n",
       "      <td>0.116586</td>\n",
       "      <td>0.466134</td>\n",
       "      <td>0.457071</td>\n",
       "      <td>0.533130</td>\n",
       "      <td>0.507237</td>\n",
       "    </tr>\n",
       "    <tr>\n",
       "      <th>std</th>\n",
       "      <td>0.180766</td>\n",
       "      <td>0.121468</td>\n",
       "      <td>0.136866</td>\n",
       "      <td>0.138986</td>\n",
       "      <td>0.342145</td>\n",
       "      <td>0.152697</td>\n",
       "    </tr>\n",
       "    <tr>\n",
       "      <th>min</th>\n",
       "      <td>0.000000</td>\n",
       "      <td>0.000000</td>\n",
       "      <td>0.000000</td>\n",
       "      <td>0.000000</td>\n",
       "      <td>0.000000</td>\n",
       "      <td>0.000000</td>\n",
       "    </tr>\n",
       "    <tr>\n",
       "      <th>25%</th>\n",
       "      <td>0.693118</td>\n",
       "      <td>0.034510</td>\n",
       "      <td>0.376263</td>\n",
       "      <td>0.365672</td>\n",
       "      <td>0.194363</td>\n",
       "      <td>0.408914</td>\n",
       "    </tr>\n",
       "    <tr>\n",
       "      <th>50%</th>\n",
       "      <td>0.820481</td>\n",
       "      <td>0.078461</td>\n",
       "      <td>0.466324</td>\n",
       "      <td>0.459132</td>\n",
       "      <td>0.540041</td>\n",
       "      <td>0.518192</td>\n",
       "    </tr>\n",
       "    <tr>\n",
       "      <th>75%</th>\n",
       "      <td>0.926940</td>\n",
       "      <td>0.158723</td>\n",
       "      <td>0.556378</td>\n",
       "      <td>0.550900</td>\n",
       "      <td>0.871905</td>\n",
       "      <td>0.606779</td>\n",
       "    </tr>\n",
       "    <tr>\n",
       "      <th>max</th>\n",
       "      <td>1.000000</td>\n",
       "      <td>1.000000</td>\n",
       "      <td>1.000000</td>\n",
       "      <td>1.000000</td>\n",
       "      <td>1.000000</td>\n",
       "      <td>1.000000</td>\n",
       "    </tr>\n",
       "  </tbody>\n",
       "</table>\n",
       "</div>"
      ],
      "text/plain": [
       "              beta  exponential     normal_p     normal_l      bimodal  \\\n",
       "count  1000.000000  1000.000000  1000.000000  1000.000000  1000.000000   \n",
       "mean      0.783358     0.116586     0.466134     0.457071     0.533130   \n",
       "std       0.180766     0.121468     0.136866     0.138986     0.342145   \n",
       "min       0.000000     0.000000     0.000000     0.000000     0.000000   \n",
       "25%       0.693118     0.034510     0.376263     0.365672     0.194363   \n",
       "50%       0.820481     0.078461     0.466324     0.459132     0.540041   \n",
       "75%       0.926940     0.158723     0.556378     0.550900     0.871905   \n",
       "max       1.000000     1.000000     1.000000     1.000000     1.000000   \n",
       "\n",
       "        normal_big  \n",
       "count  1000.000000  \n",
       "mean      0.507237  \n",
       "std       0.152697  \n",
       "min       0.000000  \n",
       "25%       0.408914  \n",
       "50%       0.518192  \n",
       "75%       0.606779  \n",
       "max       1.000000  "
      ]
     },
     "execution_count": 14,
     "metadata": {},
     "output_type": "execute_result"
    }
   ],
   "source": [
    "# thống kê về dữ liệu được sinh ra\n",
    "df_s.describe()"
   ]
  },
  {
   "cell_type": "code",
   "execution_count": 15,
   "id": "994b07f5",
   "metadata": {},
   "outputs": [
    {
     "data": {
      "text/plain": [
       "0.0"
      ]
     },
     "execution_count": 15,
     "metadata": {},
     "output_type": "execute_result"
    }
   ],
   "source": [
    "# lấy giá trị min của cột beta\n",
    "df_s['beta'].min()"
   ]
  },
  {
   "cell_type": "code",
   "execution_count": 16,
   "id": "bddf60a9",
   "metadata": {},
   "outputs": [
    {
     "data": {
      "text/plain": [
       "1.0"
      ]
     },
     "execution_count": 16,
     "metadata": {},
     "output_type": "execute_result"
    }
   ],
   "source": [
    "# lấy giá trị max của cột beta\n",
    "df_s['beta'].max()"
   ]
  },
  {
   "cell_type": "code",
   "execution_count": 17,
   "id": "59ac0c04",
   "metadata": {},
   "outputs": [
    {
     "data": {
      "text/plain": [
       "[14.233219148485508,\n",
       " 0.0006313204437633116,\n",
       " 3.105957948060266,\n",
       " -24.410157031065744,\n",
       " -31.768373724647624,\n",
       " 966894.4010925074]"
      ]
     },
     "execution_count": 17,
     "metadata": {},
     "output_type": "execute_result"
    }
   ],
   "source": [
    "# in các giá trị min của từng cột trong dữ liệu chưa chuẩn hóa\n",
    "mins = [df[col].min() for col in df.columns]\n",
    "mins"
   ]
  },
  {
   "cell_type": "code",
   "execution_count": 18,
   "id": "682fc9e9",
   "metadata": {},
   "outputs": [
    {
     "data": {
      "text/plain": [
       "[0.0, 0.0, 0.0, 0.0, 0.0, 0.0]"
      ]
     },
     "execution_count": 18,
     "metadata": {},
     "output_type": "execute_result"
    }
   ],
   "source": [
    "# in các giá trị min của từng cột trong dữ liệu đã chuẩn hóa\n",
    "mins = [df_s[col].min() for col in df_s.columns]\n",
    "mins"
   ]
  },
  {
   "cell_type": "code",
   "execution_count": 19,
   "id": "ceb2ce08",
   "metadata": {},
   "outputs": [
    {
     "data": {
      "text/plain": [
       "[59.99792567205781,\n",
       " 86.8529604492532,\n",
       " 17.955756374079908,\n",
       " 50.70901396512561,\n",
       " 27.69960666111934,\n",
       " 1032480.670126178]"
      ]
     },
     "execution_count": 19,
     "metadata": {},
     "output_type": "execute_result"
    }
   ],
   "source": [
    "# in các giá trị max của từng cột dữ liệu chưa chuẩn hóa\n",
    "maxs = [df[col].max() for col in df.columns]\n",
    "maxs"
   ]
  },
  {
   "cell_type": "code",
   "execution_count": 20,
   "id": "dc07f40a",
   "metadata": {},
   "outputs": [
    {
     "data": {
      "text/plain": [
       "[1.0, 0.9999999999999999, 0.9999999999999998, 1.0, 1.0, 1.0]"
      ]
     },
     "execution_count": 20,
     "metadata": {},
     "output_type": "execute_result"
    }
   ],
   "source": [
    "# in các giá trị max của từng cột dữ liệu đã chuẩn hóa\n",
    "maxs = [df_s[col].max() for col in df_s.columns]\n",
    "maxs"
   ]
  },
  {
   "cell_type": "code",
   "execution_count": null,
   "id": "12470a04",
   "metadata": {},
   "outputs": [],
   "source": []
  }
 ],
 "metadata": {
  "kernelspec": {
   "display_name": "Python 3 (ipykernel)",
   "language": "python",
   "name": "python3"
  },
  "language_info": {
   "codemirror_mode": {
    "name": "ipython",
    "version": 3
   },
   "file_extension": ".py",
   "mimetype": "text/x-python",
   "name": "python",
   "nbconvert_exporter": "python",
   "pygments_lexer": "ipython3",
   "version": "3.9.12"
  }
 },
 "nbformat": 4,
 "nbformat_minor": 5
}
