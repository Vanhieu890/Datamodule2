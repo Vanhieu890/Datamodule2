{
 "cells": [
  {
   "cell_type": "markdown",
   "id": "babb7a92",
   "metadata": {},
   "source": [
    "Vẽ các biểu đồ cột so sánh giá Milk (powder, infant formula) và Fuel (gas) tháng 12 cuối năm năm 2019 của Ankara, Istanbul, Izmir và National Average.\n",
    "Vẽ các biểu đồ đường phân tích xu hướng giá gạo (Rice-Retail), giá Fuel (gas) trung bình cả nước (National Average) trong năm 2016, 2018, 2019 tại Thổ Nhĩ Kì.\n",
    "Vẽ biểu đồ Scatter phân tích mối liên quan giữa giá gạo và giá gas trung bình quốc gia (National Average) tại Thổ Nhĩ Kì các năm 2016, 2018, 2019."
   ]
  },
  {
   "cell_type": "code",
   "execution_count": 1,
   "id": "f93bc3fd",
   "metadata": {},
   "outputs": [
    {
     "data": {
      "text/html": [
       "<div>\n",
       "<style scoped>\n",
       "    .dataframe tbody tr th:only-of-type {\n",
       "        vertical-align: middle;\n",
       "    }\n",
       "\n",
       "    .dataframe tbody tr th {\n",
       "        vertical-align: top;\n",
       "    }\n",
       "\n",
       "    .dataframe thead th {\n",
       "        text-align: right;\n",
       "    }\n",
       "</style>\n",
       "<table border=\"1\" class=\"dataframe\">\n",
       "  <thead>\n",
       "    <tr style=\"text-align: right;\">\n",
       "      <th></th>\n",
       "      <th>Place</th>\n",
       "      <th>ProductId</th>\n",
       "      <th>ProductName</th>\n",
       "      <th>UmId</th>\n",
       "      <th>UmName</th>\n",
       "      <th>Month</th>\n",
       "      <th>Year</th>\n",
       "      <th>Price</th>\n",
       "    </tr>\n",
       "  </thead>\n",
       "  <tbody>\n",
       "    <tr>\n",
       "      <th>0</th>\n",
       "      <td>National Average</td>\n",
       "      <td>52</td>\n",
       "      <td>Rice - Retail</td>\n",
       "      <td>5</td>\n",
       "      <td>KG</td>\n",
       "      <td>5</td>\n",
       "      <td>2013</td>\n",
       "      <td>4.4920</td>\n",
       "    </tr>\n",
       "    <tr>\n",
       "      <th>1</th>\n",
       "      <td>National Average</td>\n",
       "      <td>52</td>\n",
       "      <td>Rice - Retail</td>\n",
       "      <td>5</td>\n",
       "      <td>KG</td>\n",
       "      <td>6</td>\n",
       "      <td>2013</td>\n",
       "      <td>4.5786</td>\n",
       "    </tr>\n",
       "    <tr>\n",
       "      <th>2</th>\n",
       "      <td>National Average</td>\n",
       "      <td>52</td>\n",
       "      <td>Rice - Retail</td>\n",
       "      <td>5</td>\n",
       "      <td>KG</td>\n",
       "      <td>11</td>\n",
       "      <td>2013</td>\n",
       "      <td>4.7865</td>\n",
       "    </tr>\n",
       "    <tr>\n",
       "      <th>3</th>\n",
       "      <td>National Average</td>\n",
       "      <td>52</td>\n",
       "      <td>Rice - Retail</td>\n",
       "      <td>5</td>\n",
       "      <td>KG</td>\n",
       "      <td>12</td>\n",
       "      <td>2013</td>\n",
       "      <td>5.1337</td>\n",
       "    </tr>\n",
       "    <tr>\n",
       "      <th>4</th>\n",
       "      <td>National Average</td>\n",
       "      <td>52</td>\n",
       "      <td>Rice - Retail</td>\n",
       "      <td>5</td>\n",
       "      <td>KG</td>\n",
       "      <td>1</td>\n",
       "      <td>2014</td>\n",
       "      <td>5.5099</td>\n",
       "    </tr>\n",
       "    <tr>\n",
       "      <th>...</th>\n",
       "      <td>...</td>\n",
       "      <td>...</td>\n",
       "      <td>...</td>\n",
       "      <td>...</td>\n",
       "      <td>...</td>\n",
       "      <td>...</td>\n",
       "      <td>...</td>\n",
       "      <td>...</td>\n",
       "    </tr>\n",
       "    <tr>\n",
       "      <th>7376</th>\n",
       "      <td>Izmir</td>\n",
       "      <td>502</td>\n",
       "      <td>Cocoa (powder) - Retail</td>\n",
       "      <td>5</td>\n",
       "      <td>KG</td>\n",
       "      <td>8</td>\n",
       "      <td>2019</td>\n",
       "      <td>47.9040</td>\n",
       "    </tr>\n",
       "    <tr>\n",
       "      <th>7377</th>\n",
       "      <td>Izmir</td>\n",
       "      <td>502</td>\n",
       "      <td>Cocoa (powder) - Retail</td>\n",
       "      <td>5</td>\n",
       "      <td>KG</td>\n",
       "      <td>9</td>\n",
       "      <td>2019</td>\n",
       "      <td>49.1176</td>\n",
       "    </tr>\n",
       "    <tr>\n",
       "      <th>7378</th>\n",
       "      <td>Izmir</td>\n",
       "      <td>502</td>\n",
       "      <td>Cocoa (powder) - Retail</td>\n",
       "      <td>5</td>\n",
       "      <td>KG</td>\n",
       "      <td>10</td>\n",
       "      <td>2019</td>\n",
       "      <td>50.8347</td>\n",
       "    </tr>\n",
       "    <tr>\n",
       "      <th>7379</th>\n",
       "      <td>Izmir</td>\n",
       "      <td>502</td>\n",
       "      <td>Cocoa (powder) - Retail</td>\n",
       "      <td>5</td>\n",
       "      <td>KG</td>\n",
       "      <td>11</td>\n",
       "      <td>2019</td>\n",
       "      <td>51.7985</td>\n",
       "    </tr>\n",
       "    <tr>\n",
       "      <th>7380</th>\n",
       "      <td>Izmir</td>\n",
       "      <td>502</td>\n",
       "      <td>Cocoa (powder) - Retail</td>\n",
       "      <td>5</td>\n",
       "      <td>KG</td>\n",
       "      <td>12</td>\n",
       "      <td>2019</td>\n",
       "      <td>51.6071</td>\n",
       "    </tr>\n",
       "  </tbody>\n",
       "</table>\n",
       "<p>7381 rows × 8 columns</p>\n",
       "</div>"
      ],
      "text/plain": [
       "                 Place  ProductId              ProductName  UmId UmName  \\\n",
       "0     National Average         52            Rice - Retail     5     KG   \n",
       "1     National Average         52            Rice - Retail     5     KG   \n",
       "2     National Average         52            Rice - Retail     5     KG   \n",
       "3     National Average         52            Rice - Retail     5     KG   \n",
       "4     National Average         52            Rice - Retail     5     KG   \n",
       "...                ...        ...                      ...   ...    ...   \n",
       "7376             Izmir        502  Cocoa (powder) - Retail     5     KG   \n",
       "7377             Izmir        502  Cocoa (powder) - Retail     5     KG   \n",
       "7378             Izmir        502  Cocoa (powder) - Retail     5     KG   \n",
       "7379             Izmir        502  Cocoa (powder) - Retail     5     KG   \n",
       "7380             Izmir        502  Cocoa (powder) - Retail     5     KG   \n",
       "\n",
       "      Month  Year    Price  \n",
       "0         5  2013   4.4920  \n",
       "1         6  2013   4.5786  \n",
       "2        11  2013   4.7865  \n",
       "3        12  2013   5.1337  \n",
       "4         1  2014   5.5099  \n",
       "...     ...   ...      ...  \n",
       "7376      8  2019  47.9040  \n",
       "7377      9  2019  49.1176  \n",
       "7378     10  2019  50.8347  \n",
       "7379     11  2019  51.7985  \n",
       "7380     12  2019  51.6071  \n",
       "\n",
       "[7381 rows x 8 columns]"
      ]
     },
     "execution_count": 1,
     "metadata": {},
     "output_type": "execute_result"
    }
   ],
   "source": [
    "import pandas as pd\n",
    "import matplotlib.pyplot as plt\n",
    "data=pd.read_csv('FoodPrice_in_Turkey.csv')\n",
    "data"
   ]
  },
  {
   "cell_type": "code",
   "execution_count": 10,
   "id": "d4783218",
   "metadata": {},
   "outputs": [
    {
     "data": {
      "text/plain": [
       "array(['Rice - Retail', 'Wheat flour - Retail', 'Beans (white) - Retail',\n",
       "       'Potatoes - Retail', 'Eggs - Retail', 'Meat (chicken) - Retail',\n",
       "       'Sugar - Retail', 'Garlic - Retail', 'Lentils - Retail',\n",
       "       'Pasta - Retail', 'Tomatoes - Retail',\n",
       "       'Groundnuts (shelled) - Retail', 'Bread (common) - Retail',\n",
       "       'Coffee - Retail', 'Onions - Retail', 'Tea (green) - Retail',\n",
       "       'Cabbage - Retail', 'Meat (mutton) - Retail',\n",
       "       'Oil (sunflower) - Retail', 'Salt - Retail',\n",
       "       'Coffee (instant) - Retail', 'Peas (green, dry) - Retail',\n",
       "       'Apples (red) - Retail', 'Cauliflower - Retail',\n",
       "       'Cucumbers (greenhouse) - Retail', 'Oil (olive) - Retail',\n",
       "       'Chickpeas - Retail', 'Bananas - Retail', 'Bulgur - Retail',\n",
       "       'Tea - Retail', 'Fuel (petrol-gasoline) - Retail',\n",
       "       'Transport (public) - Retail', 'Tomatoes (paste) - Retail',\n",
       "       'Fuel (gas) - Retail', 'Apples - Retail', 'Oranges - Retail',\n",
       "       'Yogurt - Retail', 'Bread (pita) - Retail', 'Cucumbers - Retail',\n",
       "       'Fish (fresh) - Retail', 'Spinach - Retail', 'Cheese - Retail',\n",
       "       'Meat (veal) - Retail', 'Eggplants - Retail',\n",
       "       'Milk (powder, infant formula) - Retail', 'Zucchini - Retail',\n",
       "       'Milk (pasteurized) - Retail',\n",
       "       'Wage (non-qualified labour, non-agricultural) - Retail',\n",
       "       'Electricity - Retail', 'Tea (herbal) - Retail', 'Water - Retail',\n",
       "       'Cocoa (powder) - Retail'], dtype=object)"
      ]
     },
     "execution_count": 10,
     "metadata": {},
     "output_type": "execute_result"
    }
   ],
   "source": [
    "data['ProductName'].unique()"
   ]
  },
  {
   "cell_type": "markdown",
   "id": "e2ecd7fc",
   "metadata": {},
   "source": [
    "Lấy dữ liệu cần thiết cho mục tiêu 1"
   ]
  },
  {
   "cell_type": "code",
   "execution_count": 3,
   "id": "b6b9ab19",
   "metadata": {},
   "outputs": [
    {
     "data": {
      "text/html": [
       "<div>\n",
       "<style scoped>\n",
       "    .dataframe tbody tr th:only-of-type {\n",
       "        vertical-align: middle;\n",
       "    }\n",
       "\n",
       "    .dataframe tbody tr th {\n",
       "        vertical-align: top;\n",
       "    }\n",
       "\n",
       "    .dataframe thead th {\n",
       "        text-align: right;\n",
       "    }\n",
       "</style>\n",
       "<table border=\"1\" class=\"dataframe\">\n",
       "  <thead>\n",
       "    <tr style=\"text-align: right;\">\n",
       "      <th></th>\n",
       "      <th>index</th>\n",
       "      <th>Place</th>\n",
       "      <th>ProductId</th>\n",
       "      <th>ProductName</th>\n",
       "      <th>UmId</th>\n",
       "      <th>UmName</th>\n",
       "      <th>Month</th>\n",
       "      <th>Year</th>\n",
       "      <th>Price</th>\n",
       "    </tr>\n",
       "  </thead>\n",
       "  <tbody>\n",
       "    <tr>\n",
       "      <th>0</th>\n",
       "      <td>2382</td>\n",
       "      <td>National Average</td>\n",
       "      <td>442</td>\n",
       "      <td>Milk (powder, infant formula) - Retail</td>\n",
       "      <td>5</td>\n",
       "      <td>KG</td>\n",
       "      <td>12</td>\n",
       "      <td>2019</td>\n",
       "      <td>124.8845</td>\n",
       "    </tr>\n",
       "    <tr>\n",
       "      <th>1</th>\n",
       "      <td>3998</td>\n",
       "      <td>Ankara</td>\n",
       "      <td>442</td>\n",
       "      <td>Milk (powder, infant formula) - Retail</td>\n",
       "      <td>5</td>\n",
       "      <td>KG</td>\n",
       "      <td>12</td>\n",
       "      <td>2019</td>\n",
       "      <td>128.4533</td>\n",
       "    </tr>\n",
       "    <tr>\n",
       "      <th>2</th>\n",
       "      <td>5581</td>\n",
       "      <td>Istanbul</td>\n",
       "      <td>442</td>\n",
       "      <td>Milk (powder, infant formula) - Retail</td>\n",
       "      <td>5</td>\n",
       "      <td>KG</td>\n",
       "      <td>12</td>\n",
       "      <td>2019</td>\n",
       "      <td>122.7862</td>\n",
       "    </tr>\n",
       "    <tr>\n",
       "      <th>3</th>\n",
       "      <td>7164</td>\n",
       "      <td>Izmir</td>\n",
       "      <td>442</td>\n",
       "      <td>Milk (powder, infant formula) - Retail</td>\n",
       "      <td>5</td>\n",
       "      <td>KG</td>\n",
       "      <td>12</td>\n",
       "      <td>2019</td>\n",
       "      <td>147.1558</td>\n",
       "    </tr>\n",
       "  </tbody>\n",
       "</table>\n",
       "</div>"
      ],
      "text/plain": [
       "   index             Place  ProductId                             ProductName  \\\n",
       "0   2382  National Average        442  Milk (powder, infant formula) - Retail   \n",
       "1   3998            Ankara        442  Milk (powder, infant formula) - Retail   \n",
       "2   5581          Istanbul        442  Milk (powder, infant formula) - Retail   \n",
       "3   7164             Izmir        442  Milk (powder, infant formula) - Retail   \n",
       "\n",
       "   UmId UmName  Month  Year     Price  \n",
       "0     5     KG     12  2019  124.8845  \n",
       "1     5     KG     12  2019  128.4533  \n",
       "2     5     KG     12  2019  122.7862  \n",
       "3     5     KG     12  2019  147.1558  "
      ]
     },
     "execution_count": 3,
     "metadata": {},
     "output_type": "execute_result"
    }
   ],
   "source": [
    "data1=data[(data['Year']==2019)&(data['Month']==12)&(data['ProductName']=='Milk (powder, infant formula) - Retail')].reset_index()\n",
    "data1"
   ]
  },
  {
   "cell_type": "code",
   "execution_count": 4,
   "id": "70bea08b",
   "metadata": {},
   "outputs": [
    {
     "data": {
      "text/html": [
       "<div>\n",
       "<style scoped>\n",
       "    .dataframe tbody tr th:only-of-type {\n",
       "        vertical-align: middle;\n",
       "    }\n",
       "\n",
       "    .dataframe tbody tr th {\n",
       "        vertical-align: top;\n",
       "    }\n",
       "\n",
       "    .dataframe thead th {\n",
       "        text-align: right;\n",
       "    }\n",
       "</style>\n",
       "<table border=\"1\" class=\"dataframe\">\n",
       "  <thead>\n",
       "    <tr style=\"text-align: right;\">\n",
       "      <th></th>\n",
       "      <th>index</th>\n",
       "      <th>Place</th>\n",
       "      <th>ProductId</th>\n",
       "      <th>ProductName</th>\n",
       "      <th>UmId</th>\n",
       "      <th>UmName</th>\n",
       "      <th>Month</th>\n",
       "      <th>Year</th>\n",
       "      <th>Price</th>\n",
       "    </tr>\n",
       "  </thead>\n",
       "  <tbody>\n",
       "    <tr>\n",
       "      <th>0</th>\n",
       "      <td>1928</td>\n",
       "      <td>National Average</td>\n",
       "      <td>341</td>\n",
       "      <td>Fuel (gas) - Retail</td>\n",
       "      <td>90</td>\n",
       "      <td>12 KG</td>\n",
       "      <td>12</td>\n",
       "      <td>2019</td>\n",
       "      <td>108.5535</td>\n",
       "    </tr>\n",
       "    <tr>\n",
       "      <th>1</th>\n",
       "      <td>3667</td>\n",
       "      <td>Ankara</td>\n",
       "      <td>341</td>\n",
       "      <td>Fuel (gas) - Retail</td>\n",
       "      <td>90</td>\n",
       "      <td>12 KG</td>\n",
       "      <td>12</td>\n",
       "      <td>2019</td>\n",
       "      <td>106.0534</td>\n",
       "    </tr>\n",
       "    <tr>\n",
       "      <th>2</th>\n",
       "      <td>5250</td>\n",
       "      <td>Istanbul</td>\n",
       "      <td>341</td>\n",
       "      <td>Fuel (gas) - Retail</td>\n",
       "      <td>90</td>\n",
       "      <td>12 KG</td>\n",
       "      <td>12</td>\n",
       "      <td>2019</td>\n",
       "      <td>112.4568</td>\n",
       "    </tr>\n",
       "    <tr>\n",
       "      <th>3</th>\n",
       "      <td>6833</td>\n",
       "      <td>Izmir</td>\n",
       "      <td>341</td>\n",
       "      <td>Fuel (gas) - Retail</td>\n",
       "      <td>90</td>\n",
       "      <td>12 KG</td>\n",
       "      <td>12</td>\n",
       "      <td>2019</td>\n",
       "      <td>109.1172</td>\n",
       "    </tr>\n",
       "  </tbody>\n",
       "</table>\n",
       "</div>"
      ],
      "text/plain": [
       "   index             Place  ProductId          ProductName  UmId UmName  \\\n",
       "0   1928  National Average        341  Fuel (gas) - Retail    90  12 KG   \n",
       "1   3667            Ankara        341  Fuel (gas) - Retail    90  12 KG   \n",
       "2   5250          Istanbul        341  Fuel (gas) - Retail    90  12 KG   \n",
       "3   6833             Izmir        341  Fuel (gas) - Retail    90  12 KG   \n",
       "\n",
       "   Month  Year     Price  \n",
       "0     12  2019  108.5535  \n",
       "1     12  2019  106.0534  \n",
       "2     12  2019  112.4568  \n",
       "3     12  2019  109.1172  "
      ]
     },
     "execution_count": 4,
     "metadata": {},
     "output_type": "execute_result"
    }
   ],
   "source": [
    "data2=data[(data['Year']==2019)&(data['Month']==12)&(data['ProductName']=='Fuel (gas) - Retail')].reset_index()\n",
    "data2"
   ]
  },
  {
   "cell_type": "code",
   "execution_count": 5,
   "id": "105ad49a",
   "metadata": {},
   "outputs": [],
   "source": [
    "data12=pd.DataFrame({'x':data1['Place'],'y1':data1['Price'],'y2':data2['Price']})"
   ]
  },
  {
   "cell_type": "code",
   "execution_count": 6,
   "id": "2b4894dd",
   "metadata": {},
   "outputs": [
    {
     "data": {
      "image/png": "[encoded data removed]",
      "text/plain": [
       "<Figure size 432x288 with 1 Axes>"
      ]
     },
     "metadata": {
      "needs_background": "light"
     },
     "output_type": "display_data"
    }
   ],
   "source": [
    "data12.plot(x='x',y=['y1','y2'],kind='bar')\n",
    "plt.title('Milk and Gas Price in 12/2019',fontsize=16,color='r')\n",
    "plt.xlabel('Place')\n",
    "plt.ylabel('Price')\n",
    "plt.show()"
   ]
  },
  {
   "cell_type": "markdown",
   "id": "01a27346",
   "metadata": {},
   "source": [
    "Vẽ các biểu đồ đường phân tích xu hướng giá gạo (Rice-Retail), giá Fuel (gas) trung bình cả nước (National Average) trong năm 2016, 2018, 2019 tại Thổ Nhĩ Kì."
   ]
  },
  {
   "cell_type": "markdown",
   "id": "ada77578",
   "metadata": {},
   "source": [
    "Lấy dự liệu cho mục tiêu 2\n"
   ]
  },
  {
   "cell_type": "code",
   "execution_count": 13,
   "id": "e17dec89",
   "metadata": {},
   "outputs": [],
   "source": [
    "data3=data[(data['Place']=='National Average')&(data['Year']==2016)&(data['ProductName']=='Rice - Retail')]\n",
    "data4=data[(data['Place']=='National Average')&(data['Year']==2018)&(data['ProductName']=='Rice - Retail')]\n",
    "data5=data[(data['Place']=='National Average')&(data['Year']==2019)&(data['ProductName']=='Rice - Retail')]\n",
    "\n",
    "data6=data[(data['Place']=='National Average')&(data['Year']==2016)&(data['ProductName']=='Fuel (gas) - Retail')]\n",
    "data7=data[(data['Place']=='National Average')&(data['Year']==2018)&(data['ProductName']=='Fuel (gas) - Retail')]\n",
    "data8=data[(data['Place']=='National Average')&(data['Year']==2019)&(data['ProductName']=='Fuel (gas) - Retail')]"
   ]
  },
  {
   "cell_type": "code",
   "execution_count": 23,
   "id": "315288ad",
   "metadata": {},
   "outputs": [
    {
     "data": {
      "image/png": "[encoded data removed]",
      "text/plain": [
       "<Figure size 432x288 with 3 Axes>"
      ]
     },
     "metadata": {
      "needs_background": "light"
     },
     "output_type": "display_data"
    }
   ],
   "source": [
    "fig,ax=plt.subplots(3,1)\n",
    "ax[0].plot(data3['Month'],data3['Price'],marker='*',label='Rice-2016')\n",
    "ax[0].plot(data6['Month'],data6['Price'],marker='s',label='Gas-2016')\n",
    "ax[0].set_ylabel('Price')\n",
    "ax[0].set_xticklabels([])\n",
    "ax[0].set_title('2016')\n",
    "\n",
    "ax[1].plot(data4['Month'],data4['Price'],marker='*',label='Rice-2018')\n",
    "ax[1].plot(data7['Month'],data7['Price'],marker='s',label='Gas-2018')\n",
    "ax[1].set_ylabel('Price')\n",
    "ax[1].set_xticklabels([])\n",
    "ax[1].set_title('2018')\n",
    "\n",
    "ax[2].plot(data5['Month'],data5['Price'],marker='*',label='Rice-2019')\n",
    "ax[2].plot(data8['Month'],data8['Price'],marker='s',label='Gas-2019')\n",
    "ax[2].set_ylabel('Price')\n",
    "ax[2].set_xticklabels([])\n",
    "ax[2].set_title('2019')\n",
    "plt.show()"
   ]
  },
  {
   "cell_type": "markdown",
   "id": "539b071b",
   "metadata": {},
   "source": [
    "Vẽ biểu đồ Scatter phân tích mối liên quan giữa giá gạo và giá gas trung bình quốc gia (National Average) tại Thổ Nhĩ Kì các năm 2016, 2018, 2019."
   ]
  },
  {
   "cell_type": "code",
   "execution_count": 26,
   "id": "ee8963dc",
   "metadata": {},
   "outputs": [
    {
     "data": {
      "image/png": "[encoded data removed]",
      "text/plain": [
       "<Figure size 432x288 with 3 Axes>"
      ]
     },
     "metadata": {
      "needs_background": "light"
     },
     "output_type": "display_data"
    }
   ],
   "source": [
    "fig,ax=plt.subplots(3,1)\n",
    "ax[0].scatter(data3['Month'],data6['Price'])\n",
    "ax[0].set_title('2016')\n",
    "ax[0].set_ylabel('Rice')\n",
    "ax[0].set_xticklabels([])\n",
    "\n",
    "ax[1].scatter(data4['Month'],data7['Price'])\n",
    "ax[1].set_title('2018')\n",
    "ax[1].set_ylabel('Rice')\n",
    "ax[1].set_xticklabels([])\n",
    "\n",
    "ax[2].scatter(data5['Month'],data8['Price'])\n",
    "ax[2].set_title('2019')\n",
    "ax[2].set_ylabel('Rice')\n",
    "ax[2].set_xticklabels([])\n",
    "plt.show()"
   ]
  },
  {
   "cell_type": "code",
   "execution_count": null,
   "id": "6be9a40e",
   "metadata": {},
   "outputs": [],
   "source": []
  }
 ],
 "metadata": {
  "kernelspec": {
   "display_name": "Python 3 (ipykernel)",
   "language": "python",
   "name": "python3"
  },
  "language_info": {
   "codemirror_mode": {
    "name": "ipython",
    "version": 3
   },
   "file_extension": ".py",
   "mimetype": "text/x-python",
   "name": "python",
   "nbconvert_exporter": "python",
   "pygments_lexer": "ipython3",
   "version": "3.9.12"
  }
 },
 "nbformat": 4,
 "nbformat_minor": 5
}
