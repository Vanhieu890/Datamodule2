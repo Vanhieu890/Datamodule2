{
 "cells": [
  {
   "cell_type": "code",
   "execution_count": 9,
   "id": "5a97ee1e",
   "metadata": {},
   "outputs": [],
   "source": [
    "import pandas as pd\n",
    "import numpy as np\n",
    "import matplotlib.pyplot as plt\n",
    "import seaborn as sns\n",
    "from sklearn.preprocessing import StandardScaler\n"
   ]
  },
  {
   "cell_type": "code",
   "execution_count": 10,
   "id": "031773e7",
   "metadata": {},
   "outputs": [
    {
     "data": {
      "text/html": [
       "<div>\n",
       "<style scoped>\n",
       "    .dataframe tbody tr th:only-of-type {\n",
       "        vertical-align: middle;\n",
       "    }\n",
       "\n",
       "    .dataframe tbody tr th {\n",
       "        vertical-align: top;\n",
       "    }\n",
       "\n",
       "    .dataframe thead th {\n",
       "        text-align: right;\n",
       "    }\n",
       "</style>\n",
       "<table border=\"1\" class=\"dataframe\">\n",
       "  <thead>\n",
       "    <tr style=\"text-align: right;\">\n",
       "      <th></th>\n",
       "      <th>beta</th>\n",
       "      <th>exponential</th>\n",
       "      <th>normal_p</th>\n",
       "      <th>normal_l</th>\n",
       "    </tr>\n",
       "  </thead>\n",
       "  <tbody>\n",
       "    <tr>\n",
       "      <th>0</th>\n",
       "      <td>46.950743</td>\n",
       "      <td>23.202385</td>\n",
       "      <td>9.975854</td>\n",
       "      <td>3.997285</td>\n",
       "    </tr>\n",
       "    <tr>\n",
       "      <th>1</th>\n",
       "      <td>36.865488</td>\n",
       "      <td>9.532666</td>\n",
       "      <td>10.799875</td>\n",
       "      <td>11.754758</td>\n",
       "    </tr>\n",
       "    <tr>\n",
       "      <th>2</th>\n",
       "      <td>23.223782</td>\n",
       "      <td>15.811519</td>\n",
       "      <td>8.394611</td>\n",
       "      <td>23.316012</td>\n",
       "    </tr>\n",
       "    <tr>\n",
       "      <th>3</th>\n",
       "      <td>53.800620</td>\n",
       "      <td>25.206757</td>\n",
       "      <td>10.019745</td>\n",
       "      <td>15.344868</td>\n",
       "    </tr>\n",
       "    <tr>\n",
       "      <th>4</th>\n",
       "      <td>54.591842</td>\n",
       "      <td>18.065912</td>\n",
       "      <td>9.660126</td>\n",
       "      <td>9.106633</td>\n",
       "    </tr>\n",
       "    <tr>\n",
       "      <th>...</th>\n",
       "      <td>...</td>\n",
       "      <td>...</td>\n",
       "      <td>...</td>\n",
       "      <td>...</td>\n",
       "    </tr>\n",
       "    <tr>\n",
       "      <th>995</th>\n",
       "      <td>37.283588</td>\n",
       "      <td>12.956244</td>\n",
       "      <td>11.523528</td>\n",
       "      <td>9.137654</td>\n",
       "    </tr>\n",
       "    <tr>\n",
       "      <th>996</th>\n",
       "      <td>50.729447</td>\n",
       "      <td>2.679881</td>\n",
       "      <td>9.965514</td>\n",
       "      <td>-1.363622</td>\n",
       "    </tr>\n",
       "    <tr>\n",
       "      <th>997</th>\n",
       "      <td>59.555258</td>\n",
       "      <td>8.976974</td>\n",
       "      <td>12.813045</td>\n",
       "      <td>14.119029</td>\n",
       "    </tr>\n",
       "    <tr>\n",
       "      <th>998</th>\n",
       "      <td>33.769053</td>\n",
       "      <td>6.552127</td>\n",
       "      <td>10.101728</td>\n",
       "      <td>-5.067567</td>\n",
       "    </tr>\n",
       "    <tr>\n",
       "      <th>999</th>\n",
       "      <td>56.595037</td>\n",
       "      <td>12.201121</td>\n",
       "      <td>10.639003</td>\n",
       "      <td>17.621262</td>\n",
       "    </tr>\n",
       "  </tbody>\n",
       "</table>\n",
       "<p>1000 rows × 4 columns</p>\n",
       "</div>"
      ],
      "text/plain": [
       "          beta  exponential   normal_p   normal_l\n",
       "0    46.950743    23.202385   9.975854   3.997285\n",
       "1    36.865488     9.532666  10.799875  11.754758\n",
       "2    23.223782    15.811519   8.394611  23.316012\n",
       "3    53.800620    25.206757  10.019745  15.344868\n",
       "4    54.591842    18.065912   9.660126   9.106633\n",
       "..         ...          ...        ...        ...\n",
       "995  37.283588    12.956244  11.523528   9.137654\n",
       "996  50.729447     2.679881   9.965514  -1.363622\n",
       "997  59.555258     8.976974  12.813045  14.119029\n",
       "998  33.769053     6.552127  10.101728  -5.067567\n",
       "999  56.595037    12.201121  10.639003  17.621262\n",
       "\n",
       "[1000 rows x 4 columns]"
      ]
     },
     "execution_count": 10,
     "metadata": {},
     "output_type": "execute_result"
    }
   ],
   "source": [
    "# tạo các cột theo các phần phối khác nhau\n",
    "df = pd.DataFrame({ \n",
    "    'beta': np.random.beta(5, 1, 1000) * 60,        # beta\n",
    "    'exponential': np.random.exponential(10, 1000), # exponential\n",
    "    'normal_p': np.random.normal(10, 2, 1000),      # normal platykurtic\n",
    "    'normal_l': np.random.normal(10, 10, 1000),     # normal leptokurtic\n",
    "    })\n",
    "df"
   ]
  },
  {
   "cell_type": "code",
   "execution_count": 11,
   "id": "9a7d224f",
   "metadata": {},
   "outputs": [
    {
     "data": {
      "text/html": [
       "<div>\n",
       "<style scoped>\n",
       "    .dataframe tbody tr th:only-of-type {\n",
       "        vertical-align: middle;\n",
       "    }\n",
       "\n",
       "    .dataframe tbody tr th {\n",
       "        vertical-align: top;\n",
       "    }\n",
       "\n",
       "    .dataframe thead th {\n",
       "        text-align: right;\n",
       "    }\n",
       "</style>\n",
       "<table border=\"1\" class=\"dataframe\">\n",
       "  <thead>\n",
       "    <tr style=\"text-align: right;\">\n",
       "      <th></th>\n",
       "      <th>beta</th>\n",
       "      <th>exponential</th>\n",
       "      <th>normal_p</th>\n",
       "      <th>normal_l</th>\n",
       "      <th>bimodal</th>\n",
       "    </tr>\n",
       "  </thead>\n",
       "  <tbody>\n",
       "    <tr>\n",
       "      <th>0</th>\n",
       "      <td>46.950743</td>\n",
       "      <td>23.202385</td>\n",
       "      <td>9.975854</td>\n",
       "      <td>3.997285</td>\n",
       "      <td>18.512135</td>\n",
       "    </tr>\n",
       "    <tr>\n",
       "      <th>1</th>\n",
       "      <td>36.865488</td>\n",
       "      <td>9.532666</td>\n",
       "      <td>10.799875</td>\n",
       "      <td>11.754758</td>\n",
       "      <td>23.426348</td>\n",
       "    </tr>\n",
       "    <tr>\n",
       "      <th>2</th>\n",
       "      <td>23.223782</td>\n",
       "      <td>15.811519</td>\n",
       "      <td>8.394611</td>\n",
       "      <td>23.316012</td>\n",
       "      <td>23.683725</td>\n",
       "    </tr>\n",
       "    <tr>\n",
       "      <th>3</th>\n",
       "      <td>53.800620</td>\n",
       "      <td>25.206757</td>\n",
       "      <td>10.019745</td>\n",
       "      <td>15.344868</td>\n",
       "      <td>18.736282</td>\n",
       "    </tr>\n",
       "    <tr>\n",
       "      <th>4</th>\n",
       "      <td>54.591842</td>\n",
       "      <td>18.065912</td>\n",
       "      <td>9.660126</td>\n",
       "      <td>9.106633</td>\n",
       "      <td>19.981253</td>\n",
       "    </tr>\n",
       "  </tbody>\n",
       "</table>\n",
       "</div>"
      ],
      "text/plain": [
       "        beta  exponential   normal_p   normal_l    bimodal\n",
       "0  46.950743    23.202385   9.975854   3.997285  18.512135\n",
       "1  36.865488     9.532666  10.799875  11.754758  23.426348\n",
       "2  23.223782    15.811519   8.394611  23.316012  23.683725\n",
       "3  53.800620    25.206757  10.019745  15.344868  18.736282\n",
       "4  54.591842    18.065912   9.660126   9.106633  19.981253"
      ]
     },
     "execution_count": 11,
     "metadata": {},
     "output_type": "execute_result"
    }
   ],
   "source": [
    "# thêm dữ liệu được tạo theo phân phối nhị thức\n",
    "first_half = np.random.normal(20, 3, 500) \n",
    "second_half = np.random.normal(-20, 3, 500) \n",
    "bimodal = np.concatenate([first_half, second_half])\n",
    "\n",
    "df['bimodal'] = bimodal\n",
    "df.head()"
   ]
  },
  {
   "cell_type": "code",
   "execution_count": 12,
   "id": "70d799f4",
   "metadata": {},
   "outputs": [
    {
     "data": {
      "text/plain": [
       "<AxesSubplot:ylabel='Density'>"
      ]
     },
     "execution_count": 12,
     "metadata": {},
     "output_type": "execute_result"
    },
    {
     "data": {
      "image/png": "[encoded data removed]",
      "text/plain": [
       "<Figure size 432x288 with 1 Axes>"
      ]
     },
     "metadata": {
      "needs_background": "light"
     },
     "output_type": "display_data"
    }
   ],
   "source": [
    "#Trực quan hóa dữ liệu sinh ra\n",
    "sns.kdeplot(data=df)"
   ]
  },
  {
   "cell_type": "code",
   "execution_count": 13,
   "id": "e64d873a",
   "metadata": {},
   "outputs": [
    {
     "data": {
      "text/html": [
       "<div>\n",
       "<style scoped>\n",
       "    .dataframe tbody tr th:only-of-type {\n",
       "        vertical-align: middle;\n",
       "    }\n",
       "\n",
       "    .dataframe tbody tr th {\n",
       "        vertical-align: top;\n",
       "    }\n",
       "\n",
       "    .dataframe thead th {\n",
       "        text-align: right;\n",
       "    }\n",
       "</style>\n",
       "<table border=\"1\" class=\"dataframe\">\n",
       "  <thead>\n",
       "    <tr style=\"text-align: right;\">\n",
       "      <th></th>\n",
       "      <th>beta</th>\n",
       "      <th>exponential</th>\n",
       "      <th>normal_p</th>\n",
       "      <th>normal_l</th>\n",
       "      <th>bimodal</th>\n",
       "    </tr>\n",
       "  </thead>\n",
       "  <tbody>\n",
       "    <tr>\n",
       "      <th>count</th>\n",
       "      <td>1000.000000</td>\n",
       "      <td>1000.000000</td>\n",
       "      <td>1000.000000</td>\n",
       "      <td>1000.000000</td>\n",
       "      <td>1000.000000</td>\n",
       "    </tr>\n",
       "    <tr>\n",
       "      <th>mean</th>\n",
       "      <td>49.988621</td>\n",
       "      <td>10.488722</td>\n",
       "      <td>9.949799</td>\n",
       "      <td>10.248781</td>\n",
       "      <td>-0.190623</td>\n",
       "    </tr>\n",
       "    <tr>\n",
       "      <th>std</th>\n",
       "      <td>8.452036</td>\n",
       "      <td>10.377338</td>\n",
       "      <td>1.974705</td>\n",
       "      <td>9.846889</td>\n",
       "      <td>20.229225</td>\n",
       "    </tr>\n",
       "    <tr>\n",
       "      <th>min</th>\n",
       "      <td>16.931334</td>\n",
       "      <td>0.023702</td>\n",
       "      <td>3.641361</td>\n",
       "      <td>-19.967511</td>\n",
       "      <td>-30.968023</td>\n",
       "    </tr>\n",
       "    <tr>\n",
       "      <th>25%</th>\n",
       "      <td>45.224751</td>\n",
       "      <td>3.104248</td>\n",
       "      <td>8.603288</td>\n",
       "      <td>3.578031</td>\n",
       "      <td>-20.185190</td>\n",
       "    </tr>\n",
       "    <tr>\n",
       "      <th>50%</th>\n",
       "      <td>52.124195</td>\n",
       "      <td>6.934833</td>\n",
       "      <td>9.970599</td>\n",
       "      <td>10.192311</td>\n",
       "      <td>-0.735064</td>\n",
       "    </tr>\n",
       "    <tr>\n",
       "      <th>75%</th>\n",
       "      <td>56.626705</td>\n",
       "      <td>14.792023</td>\n",
       "      <td>11.291944</td>\n",
       "      <td>16.518083</td>\n",
       "      <td>19.833828</td>\n",
       "    </tr>\n",
       "    <tr>\n",
       "      <th>max</th>\n",
       "      <td>59.989256</td>\n",
       "      <td>73.876454</td>\n",
       "      <td>19.190947</td>\n",
       "      <td>39.943431</td>\n",
       "      <td>28.489610</td>\n",
       "    </tr>\n",
       "  </tbody>\n",
       "</table>\n",
       "</div>"
      ],
      "text/plain": [
       "              beta  exponential     normal_p     normal_l      bimodal\n",
       "count  1000.000000  1000.000000  1000.000000  1000.000000  1000.000000\n",
       "mean     49.988621    10.488722     9.949799    10.248781    -0.190623\n",
       "std       8.452036    10.377338     1.974705     9.846889    20.229225\n",
       "min      16.931334     0.023702     3.641361   -19.967511   -30.968023\n",
       "25%      45.224751     3.104248     8.603288     3.578031   -20.185190\n",
       "50%      52.124195     6.934833     9.970599    10.192311    -0.735064\n",
       "75%      56.626705    14.792023    11.291944    16.518083    19.833828\n",
       "max      59.989256    73.876454    19.190947    39.943431    28.489610"
      ]
     },
     "execution_count": 13,
     "metadata": {},
     "output_type": "execute_result"
    }
   ],
   "source": [
    "#Hiển thị thống kê về dữ liệu sinh ra\n",
    "df.describe()"
   ]
  },
  {
   "cell_type": "code",
   "execution_count": 14,
   "id": "f87603a7",
   "metadata": {},
   "outputs": [
    {
     "data": {
      "text/plain": [
       "<AxesSubplot:ylabel='Density'>"
      ]
     },
     "execution_count": 14,
     "metadata": {},
     "output_type": "execute_result"
    },
    {
     "data": {
      "image/png": "[encoded data removed]",
      "text/plain": [
       "<Figure size 432x288 with 1 Axes>"
      ]
     },
     "metadata": {
      "needs_background": "light"
     },
     "output_type": "display_data"
    }
   ],
   "source": [
    "#thêm 1 đặc trưng với giá trị lớn hơn nhiều\n",
    "normal_big = np.random.normal(1000000, 10000, (1000,1))  # normal distribution of large values\n",
    "df['normal_big'] = normal_big\n",
    "sns.kdeplot(data=df)"
   ]
  },
  {
   "cell_type": "code",
   "execution_count": 15,
   "id": "bd297694",
   "metadata": {},
   "outputs": [
    {
     "data": {
      "text/plain": [
       "<AxesSubplot:>"
      ]
     },
     "execution_count": 15,
     "metadata": {},
     "output_type": "execute_result"
    },
    {
     "data": {
      "image/png": "[encoded data removed]",
      "text/plain": [
       "<Figure size 432x288 with 1 Axes>"
      ]
     },
     "metadata": {
      "needs_background": "light"
     },
     "output_type": "display_data"
    }
   ],
   "source": [
    "# trực quan hóa bằng biểu đồ box plot\n",
    "df.boxplot()"
   ]
  },
  {
   "cell_type": "code",
   "execution_count": 16,
   "id": "a1bc4e90",
   "metadata": {},
   "outputs": [
    {
     "data": {
      "text/html": [
       "<div>\n",
       "<style scoped>\n",
       "    .dataframe tbody tr th:only-of-type {\n",
       "        vertical-align: middle;\n",
       "    }\n",
       "\n",
       "    .dataframe tbody tr th {\n",
       "        vertical-align: top;\n",
       "    }\n",
       "\n",
       "    .dataframe thead th {\n",
       "        text-align: right;\n",
       "    }\n",
       "</style>\n",
       "<table border=\"1\" class=\"dataframe\">\n",
       "  <thead>\n",
       "    <tr style=\"text-align: right;\">\n",
       "      <th></th>\n",
       "      <th>beta</th>\n",
       "      <th>exponential</th>\n",
       "      <th>normal_p</th>\n",
       "      <th>normal_l</th>\n",
       "      <th>bimodal</th>\n",
       "      <th>normal_big</th>\n",
       "    </tr>\n",
       "  </thead>\n",
       "  <tbody>\n",
       "    <tr>\n",
       "      <th>0</th>\n",
       "      <td>-0.359605</td>\n",
       "      <td>1.225750</td>\n",
       "      <td>0.013201</td>\n",
       "      <td>-0.635188</td>\n",
       "      <td>0.925004</td>\n",
       "      <td>-0.737853</td>\n",
       "    </tr>\n",
       "    <tr>\n",
       "      <th>1</th>\n",
       "      <td>-1.553436</td>\n",
       "      <td>-0.092175</td>\n",
       "      <td>0.430698</td>\n",
       "      <td>0.153016</td>\n",
       "      <td>1.168052</td>\n",
       "      <td>1.513032</td>\n",
       "    </tr>\n",
       "    <tr>\n",
       "      <th>2</th>\n",
       "      <td>-3.168258</td>\n",
       "      <td>0.513182</td>\n",
       "      <td>-0.787948</td>\n",
       "      <td>1.327706</td>\n",
       "      <td>1.180781</td>\n",
       "      <td>0.704575</td>\n",
       "    </tr>\n",
       "    <tr>\n",
       "      <th>3</th>\n",
       "      <td>0.451241</td>\n",
       "      <td>1.418996</td>\n",
       "      <td>0.035439</td>\n",
       "      <td>0.517792</td>\n",
       "      <td>0.936090</td>\n",
       "      <td>0.087808</td>\n",
       "    </tr>\n",
       "    <tr>\n",
       "      <th>4</th>\n",
       "      <td>0.544901</td>\n",
       "      <td>0.730532</td>\n",
       "      <td>-0.146765</td>\n",
       "      <td>-0.116049</td>\n",
       "      <td>0.997664</td>\n",
       "      <td>2.227206</td>\n",
       "    </tr>\n",
       "  </tbody>\n",
       "</table>\n",
       "</div>"
      ],
      "text/plain": [
       "       beta  exponential  normal_p  normal_l   bimodal  normal_big\n",
       "0 -0.359605     1.225750  0.013201 -0.635188  0.925004   -0.737853\n",
       "1 -1.553436    -0.092175  0.430698  0.153016  1.168052    1.513032\n",
       "2 -3.168258     0.513182 -0.787948  1.327706  1.180781    0.704575\n",
       "3  0.451241     1.418996  0.035439  0.517792  0.936090    0.087808\n",
       "4  0.544901     0.730532 -0.146765 -0.116049  0.997664    2.227206"
      ]
     },
     "execution_count": 16,
     "metadata": {},
     "output_type": "execute_result"
    }
   ],
   "source": [
    "#Chuẩn hóa với StandardScaler (Z-Score scaling)\n",
    "# Khai báo đối tượng StandardScaler\n",
    "s_scaler = StandardScaler()\n",
    "# Chuẩn hóa dữ liệu trong df với StandardScaler\n",
    "df_s = s_scaler.fit_transform(df)\n",
    "\n",
    "# lấy danh sách cột\n",
    "col_names = list(df.columns)\n",
    "\n",
    "# chuyển về DataFrame, gán các cột của df cho dữ liệu đã được chuẩn hóa\n",
    "df_s = pd.DataFrame(df_s, columns=col_names)\n",
    "df_s.head()"
   ]
  },
  {
   "cell_type": "code",
   "execution_count": 17,
   "id": "abadeba8",
   "metadata": {},
   "outputs": [
    {
     "data": {
      "text/plain": [
       "<AxesSubplot:ylabel='Density'>"
      ]
     },
     "execution_count": 17,
     "metadata": {},
     "output_type": "execute_result"
    },
    {
     "data": {
      "image/png": "[encoded data removed]",
      "text/plain": [
       "<Figure size 432x288 with 1 Axes>"
      ]
     },
     "metadata": {
      "needs_background": "light"
     },
     "output_type": "display_data"
    }
   ],
   "source": [
    "# biểu diễn dữ liệu đã được chuẩn hóa\n",
    "sns.kdeplot(data=df_s)"
   ]
  },
  {
   "cell_type": "code",
   "execution_count": 18,
   "id": "b9d6b1c5",
   "metadata": {},
   "outputs": [
    {
     "data": {
      "text/html": [
       "<div>\n",
       "<style scoped>\n",
       "    .dataframe tbody tr th:only-of-type {\n",
       "        vertical-align: middle;\n",
       "    }\n",
       "\n",
       "    .dataframe tbody tr th {\n",
       "        vertical-align: top;\n",
       "    }\n",
       "\n",
       "    .dataframe thead th {\n",
       "        text-align: right;\n",
       "    }\n",
       "</style>\n",
       "<table border=\"1\" class=\"dataframe\">\n",
       "  <thead>\n",
       "    <tr style=\"text-align: right;\">\n",
       "      <th></th>\n",
       "      <th>beta</th>\n",
       "      <th>exponential</th>\n",
       "      <th>normal_p</th>\n",
       "      <th>normal_l</th>\n",
       "      <th>bimodal</th>\n",
       "      <th>normal_big</th>\n",
       "    </tr>\n",
       "  </thead>\n",
       "  <tbody>\n",
       "    <tr>\n",
       "      <th>count</th>\n",
       "      <td>1.000000e+03</td>\n",
       "      <td>1.000000e+03</td>\n",
       "      <td>1.000000e+03</td>\n",
       "      <td>1.000000e+03</td>\n",
       "      <td>1.000000e+03</td>\n",
       "      <td>1.000000e+03</td>\n",
       "    </tr>\n",
       "    <tr>\n",
       "      <th>mean</th>\n",
       "      <td>-4.696243e-17</td>\n",
       "      <td>-5.015433e-17</td>\n",
       "      <td>5.107026e-16</td>\n",
       "      <td>1.459943e-16</td>\n",
       "      <td>1.321165e-16</td>\n",
       "      <td>-7.500722e-15</td>\n",
       "    </tr>\n",
       "    <tr>\n",
       "      <th>std</th>\n",
       "      <td>1.000500e+00</td>\n",
       "      <td>1.000500e+00</td>\n",
       "      <td>1.000500e+00</td>\n",
       "      <td>1.000500e+00</td>\n",
       "      <td>1.000500e+00</td>\n",
       "      <td>1.000500e+00</td>\n",
       "    </tr>\n",
       "    <tr>\n",
       "      <th>min</th>\n",
       "      <td>-3.913119e+00</td>\n",
       "      <td>-1.008954e+00</td>\n",
       "      <td>-3.196222e+00</td>\n",
       "      <td>-3.070148e+00</td>\n",
       "      <td>-1.522194e+00</td>\n",
       "      <td>-2.985985e+00</td>\n",
       "    </tr>\n",
       "    <tr>\n",
       "      <th>25%</th>\n",
       "      <td>-5.639178e-01</td>\n",
       "      <td>-7.119523e-01</td>\n",
       "      <td>-6.822207e-01</td>\n",
       "      <td>-6.777864e-01</td>\n",
       "      <td>-9.888946e-01</td>\n",
       "      <td>-6.510280e-01</td>\n",
       "    </tr>\n",
       "    <tr>\n",
       "      <th>50%</th>\n",
       "      <td>2.527962e-01</td>\n",
       "      <td>-3.426378e-01</td>\n",
       "      <td>1.053885e-02</td>\n",
       "      <td>-5.737618e-03</td>\n",
       "      <td>-2.692704e-02</td>\n",
       "      <td>-1.945173e-02</td>\n",
       "    </tr>\n",
       "    <tr>\n",
       "      <th>75%</th>\n",
       "      <td>7.857758e-01</td>\n",
       "      <td>4.148901e-01</td>\n",
       "      <td>6.800091e-01</td>\n",
       "      <td>6.369970e-01</td>\n",
       "      <td>9.903727e-01</td>\n",
       "      <td>6.536792e-01</td>\n",
       "    </tr>\n",
       "    <tr>\n",
       "      <th>max</th>\n",
       "      <td>1.183814e+00</td>\n",
       "      <td>6.111341e+00</td>\n",
       "      <td>4.682104e+00</td>\n",
       "      <td>3.017147e+00</td>\n",
       "      <td>1.418472e+00</td>\n",
       "      <td>3.020026e+00</td>\n",
       "    </tr>\n",
       "  </tbody>\n",
       "</table>\n",
       "</div>"
      ],
      "text/plain": [
       "               beta   exponential      normal_p      normal_l       bimodal  \\\n",
       "count  1.000000e+03  1.000000e+03  1.000000e+03  1.000000e+03  1.000000e+03   \n",
       "mean  -4.696243e-17 -5.015433e-17  5.107026e-16  1.459943e-16  1.321165e-16   \n",
       "std    1.000500e+00  1.000500e+00  1.000500e+00  1.000500e+00  1.000500e+00   \n",
       "min   -3.913119e+00 -1.008954e+00 -3.196222e+00 -3.070148e+00 -1.522194e+00   \n",
       "25%   -5.639178e-01 -7.119523e-01 -6.822207e-01 -6.777864e-01 -9.888946e-01   \n",
       "50%    2.527962e-01 -3.426378e-01  1.053885e-02 -5.737618e-03 -2.692704e-02   \n",
       "75%    7.857758e-01  4.148901e-01  6.800091e-01  6.369970e-01  9.903727e-01   \n",
       "max    1.183814e+00  6.111341e+00  4.682104e+00  3.017147e+00  1.418472e+00   \n",
       "\n",
       "         normal_big  \n",
       "count  1.000000e+03  \n",
       "mean  -7.500722e-15  \n",
       "std    1.000500e+00  \n",
       "min   -2.985985e+00  \n",
       "25%   -6.510280e-01  \n",
       "50%   -1.945173e-02  \n",
       "75%    6.536792e-01  \n",
       "max    3.020026e+00  "
      ]
     },
     "execution_count": 18,
     "metadata": {},
     "output_type": "execute_result"
    }
   ],
   "source": [
    "# thống kê về dữ liệu được sinh ra\n",
    "df_s.describe()"
   ]
  },
  {
   "cell_type": "code",
   "execution_count": 19,
   "id": "f145bae9",
   "metadata": {},
   "outputs": [
    {
     "data": {
      "text/plain": [
       "<AxesSubplot:>"
      ]
     },
     "execution_count": 19,
     "metadata": {},
     "output_type": "execute_result"
    },
    {
     "data": {
      "image/png": "[encoded data removed]",
      "text/plain": [
       "<Figure size 432x288 with 1 Axes>"
      ]
     },
     "metadata": {
      "needs_background": "light"
     },
     "output_type": "display_data"
    }
   ],
   "source": [
    "# trực quan hóa bằng biểu đồ box plot\n",
    "df_s.boxplot()"
   ]
  },
  {
   "cell_type": "code",
   "execution_count": null,
   "id": "44b9ecdb",
   "metadata": {},
   "outputs": [],
   "source": []
  }
 ],
 "metadata": {
  "kernelspec": {
   "display_name": "Python 3 (ipykernel)",
   "language": "python",
   "name": "python3"
  },
  "language_info": {
   "codemirror_mode": {
    "name": "ipython",
    "version": 3
   },
   "file_extension": ".py",
   "mimetype": "text/x-python",
   "name": "python",
   "nbconvert_exporter": "python",
   "pygments_lexer": "ipython3",
   "version": "3.9.12"
  }
 },
 "nbformat": 4,
 "nbformat_minor": 5
}
